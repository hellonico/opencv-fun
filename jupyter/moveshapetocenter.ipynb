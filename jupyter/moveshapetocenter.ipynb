{
 "cells": [
  {
   "cell_type": "markdown",
   "metadata": {},
   "source": [
    "# Move a shape to the center of the scene\n",
    "\n",
    "Say you have a shape inside a picture, and you want to move it somewhere else inside the same picture.\n"
   ]
  },
  {
   "cell_type": "code",
   "execution_count": 1,
   "metadata": {},
   "outputs": [
    {
     "name": "stderr",
     "output_type": "stream",
     "text": [
      "WARNING: reduce already refers to: #'clojure.core/reduce in namespace: unwavering-briars, being replaced by: #'opencv4.core/reduce\n",
      "WARNING: sort already refers to: #'clojure.core/sort in namespace: unwavering-briars, being replaced by: #'opencv4.core/sort\n",
      "WARNING: min already refers to: #'clojure.core/min in namespace: unwavering-briars, being replaced by: #'opencv4.core/min\n",
      "WARNING: merge already refers to: #'clojure.core/merge in namespace: unwavering-briars, being replaced by: #'opencv4.core/merge\n",
      "WARNING: max already refers to: #'clojure.core/max in namespace: unwavering-briars, being replaced by: #'opencv4.core/max\n",
      "WARNING: compare already refers to: #'clojure.core/compare in namespace: unwavering-briars, being replaced by: #'opencv4.core/compare\n",
      "WARNING: repeat already refers to: #'clojure.core/repeat in namespace: unwavering-briars, being replaced by: #'opencv4.core/repeat\n"
     ]
    },
    {
     "data": {
      "text/plain": [
       "nil"
      ]
     },
     "execution_count": 1,
     "metadata": {},
     "output_type": "execute_result"
    }
   ],
   "source": [
    "(ns unwavering-briars\n",
    " (:require\n",
    "  [opencv4.utils :as u]\n",
    "  [opencv4.colors.html :refer :all]\n",
    "  [opencv4.core :refer :all]))"
   ]
  },
  {
   "cell_type": "markdown",
   "metadata": {},
   "source": [
    "The plan is defined as follow:\n",
    "\n",
    "- load the picture, and add a quick border to get it to show properly here.\n",
    "- go into HSV color space to be able to select only the object we want use a color range\n",
    "- create a mask "
   ]
  },
  {
   "cell_type": "code",
   "execution_count": 2,
   "metadata": {},
   "outputs": [
    {
     "data": {
      "image/png": "[encoded data removed]"
     },
     "execution_count": 2,
     "metadata": {},
     "output_type": "execute_result"
    }
   ],
   "source": [
    "(def img \n",
    "  (-> \"resources/morph/cjy6M.jpg\" \n",
    "      (imread IMREAD_REDUCED_COLOR_2)\n",
    "      (copy-make-border! 1 1 1 1 \n",
    "\t\tBORDER_CONSTANT \n",
    "        (->scalar \"#aabbcc\"))))\n",
    "\n",
    "(u/>>> img)"
   ]
  },
  {
   "cell_type": "markdown",
   "metadata": {},
   "source": [
    "## thresh hold on yellow in hsv spacez"
   ]
  },
  {
   "cell_type": "code",
   "execution_count": 3,
   "metadata": {},
   "outputs": [
    {
     "data": {
      "image/png": "[encoded data removed]"
     },
     "execution_count": 3,
     "metadata": {},
     "output_type": "execute_result"
    }
   ],
   "source": [
    "(def mask-on-yellow\n",
    "  (-> \n",
    "    img \n",
    "    clone \n",
    "    (cvt-color! COLOR_BGR2HSV) \n",
    "    (in-range! (new-scalar 20 100 100) (new-scalar 30 255 255))))\n",
    "\n",
    "(u/>>> mask-on-yellow)"
   ]
  },
  {
   "cell_type": "code",
   "execution_count": 4,
   "metadata": {},
   "outputs": [
    {
     "name": "stdout",
     "output_type": "stream",
     "text": [
      "[0 255 255]\n",
      "[0 255 255]\n",
      "[0 255 255]\n"
     ]
    },
    {
     "data": {
      "text/plain": [
       "nil"
      ]
     },
     "execution_count": 4,
     "metadata": {},
     "output_type": "execute_result"
    }
   ],
   "source": [
    "(-> (u/matrix-to-mat [[100 255 200]\n",
    "                      [100 255 200]\n",
    "                      [100 255 200]])\n",
    "\t(threshold! 150 255 THRESH_BINARY)\n",
    "    (dump))"
   ]
  },
  {
   "cell_type": "markdown",
   "metadata": {},
   "source": [
    "## find contours, and select first 1, (actually only one)"
   ]
  },
  {
   "cell_type": "code",
   "execution_count": 5,
   "metadata": {},
   "outputs": [
    {
     "data": {
      "text/plain": [
       "1"
      ]
     },
     "execution_count": 5,
     "metadata": {},
     "output_type": "execute_result"
    }
   ],
   "source": [
    "(def contours (new-arraylist))\n",
    "(find-contours mask-on-yellow contours (new-mat) RETR_EXTERNAL CHAIN_APPROX_SIMPLE)\n",
    "(count contours)"
   ]
  },
  {
   "cell_type": "code",
   "execution_count": 6,
   "metadata": {},
   "outputs": [
    {
     "data": {
      "image/png": "[encoded data removed]"
     },
     "execution_count": 6,
     "metadata": {},
     "output_type": "execute_result"
    }
   ],
   "source": [
    "(def background-color  (->scalar \"#000000\"))\n",
    "; mask type CV_8UC1 is important !!\n",
    "(def mask (new-mat (rows img) (cols img) CV_8UC1 background-color))\n",
    "\n",
    "(u/>>> mask)"
   ]
  },
  {
   "cell_type": "markdown",
   "metadata": {},
   "source": [
    "Here we draw the one contour we have found, using the *FILLED* setting of draw-contours. "
   ]
  },
  {
   "cell_type": "code",
   "execution_count": 7,
   "metadata": {},
   "outputs": [
    {
     "data": {
      "image/png": "[encoded data removed]"
     },
     "execution_count": 7,
     "metadata": {},
     "output_type": "execute_result"
    }
   ],
   "source": [
    "(draw-contours mask contours 0 (new-scalar 255.0) FILLED)\n",
    "(u/>>> mask)"
   ]
  },
  {
   "cell_type": "code",
   "execution_count": 8,
   "metadata": {},
   "outputs": [
    {
     "data": {
      "image/png": "[encoded data removed]"
     },
     "execution_count": 8,
     "metadata": {},
     "output_type": "execute_result"
    }
   ],
   "source": [
    "(def box \n",
    "  (bounding-rect (first contours)))\n",
    "(def item \n",
    "  (submat img box))\n",
    "\n",
    "(u/>>> item)\n",
    "\n",
    "(def segmented-item\n",
    "  (new-mat (rows item) (cols item) CV_8UC3 background-color))\n",
    "(copy-to item segmented-item (submat mask box) )\n",
    "\n",
    "(u/>>> segmented-item)"
   ]
  },
  {
   "cell_type": "code",
   "execution_count": 9,
   "metadata": {},
   "outputs": [
    {
     "data": {
      "text/plain": [
       "#'unwavering-briars/center-box"
      ]
     },
     "execution_count": 9,
     "metadata": {},
     "output_type": "execute_result"
    }
   ],
   "source": [
    "(def center\n",
    "  (new-point (/ (.cols img ) 2 ) (/ (.rows img) 2)))\n",
    "\n",
    "(def center-box\n",
    "  (new-rect\n",
    "    (- (.-x center ) (/ (.-width box) 2))\n",
    "    (- (.-y center ) (/ (.-height box) 2))\n",
    "    (.-width box)\n",
    "    (.-height box)))"
   ]
  },
  {
   "cell_type": "code",
   "execution_count": 10,
   "metadata": {},
   "outputs": [
    {
     "data": {
      "image/png": "[encoded data removed]"
     },
     "execution_count": 10,
     "metadata": {},
     "output_type": "execute_result"
    }
   ],
   "source": [
    "\n",
    "  (def result (new-mat (rows img) (cols img) CV_8UC3 background-color))\n",
    "\n",
    "  (def final (submat result center-box))\n",
    "  (copy-to segmented-item final (new-mat))\n",
    "\n",
    "(u/>>> result)"
   ]
  }
 ],
 "metadata": {
  "kernelspec": {
   "display_name": "Lein-Clojure",
   "language": "clojure",
   "name": "lein-clojure"
  },
  "language_info": {
   "file_extension": ".clj",
   "mimetype": "text/x-clojure",
   "name": "clojure",
   "version": "1.9.0"
  }
 },
 "nbformat": 4,
 "nbformat_minor": 2
}
