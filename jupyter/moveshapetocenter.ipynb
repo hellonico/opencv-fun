{
 "cells": [
  {
   "cell_type": "markdown",
   "metadata": {},
   "source": [
    "# Move a shape to the center of the scene\n",
    "\n",
    "Say you have a shape inside a picture, and you want to move it somewhere else inside the same picture.\n"
   ]
  },
  {
   "cell_type": "code",
   "execution_count": 1,
   "metadata": {},
   "outputs": [
    {
     "name": "stderr",
     "output_type": "stream",
     "text": [
      "WARNING: reduce already refers to: #'clojure.core/reduce in namespace: unwavering-briars, being replaced by: #'opencv4.core/reduce\n",
      "WARNING: sort already refers to: #'clojure.core/sort in namespace: unwavering-briars, being replaced by: #'opencv4.core/sort\n",
      "WARNING: min already refers to: #'clojure.core/min in namespace: unwavering-briars, being replaced by: #'opencv4.core/min\n",
      "WARNING: merge already refers to: #'clojure.core/merge in namespace: unwavering-briars, being replaced by: #'opencv4.core/merge\n",
      "WARNING: max already refers to: #'clojure.core/max in namespace: unwavering-briars, being replaced by: #'opencv4.core/max\n",
      "WARNING: compare already refers to: #'clojure.core/compare in namespace: unwavering-briars, being replaced by: #'opencv4.core/compare\n",
      "WARNING: repeat already refers to: #'clojure.core/repeat in namespace: unwavering-briars, being replaced by: #'opencv4.core/repeat\n"
     ]
    },
    {
     "data": {
      "text/plain": [
       "nil"
      ]
     },
     "execution_count": 1,
     "metadata": {},
     "output_type": "execute_result"
    }
   ],
   "source": [
    "(ns unwavering-briars\n",
    " (:require\n",
    "  [opencv4.utils :as u]\n",
    "  [opencv4.colors.html :refer :all]\n",
    "  [opencv4.core :refer :all]))"
   ]
  },
  {
   "cell_type": "markdown",
   "metadata": {},
   "source": [
    "The plan is defined as follow:\n",
    "\n",
    "- load the picture, and add a quick border to get it to show properly here.\n",
    "- go into HSV color space to be able to select only the object we want use a color range\n",
    "- create a mask "
   ]
  },
  {
   "cell_type": "code",
   "execution_count": 2,
   "metadata": {},
   "outputs": [
    {
     "data": {
      "image/png": "[encoded data removed]"
     },
     "execution_count": 2,
     "metadata": {},
     "output_type": "execute_result"
    }
   ],
   "source": [
    "(def img \n",
    "  (-> \"resources/morph/cjy6M.jpg\" \n",
    "      (imread IMREAD_REDUCED_COLOR_2)\n",
    "      (copy-make-border! 1 1 1 1 \n",
    "\t\tBORDER_CONSTANT \n",
    "        (->scalar \"#aabbcc\"))))\n",
    "\n",
    "(u/>>> img)"
   ]
  },
  {
   "cell_type": "markdown",
   "metadata": {},
   "source": [
    "## thresh hold on yellow in hsv spacez"
   ]
  },
  {
   "cell_type": "code",
   "execution_count": 3,
   "metadata": {},
   "outputs": [
    {
     "name": "stderr",
     "output_type": "stream",
     "text": [
      "CompilerException java.lang.RuntimeException: Unable to resolve symbol: in-range! in this context, compiling:(/tmp/form-init1208619438798341878.clj:6:5) \n",
      "ClassCastException clojure.lang.Var$Unbound cannot be cast to org.opencv.core.Mat  opencv4.utils/mat-to-buffered-image (utils.clj:109)\n"
     ]
    },
    {
     "ename": "class java.lang.ClassCastException",
     "evalue": "",
     "output_type": "error",
     "traceback": [
      "  utils.clj:   109 opencv4.utils$mat_to_buffered_image/invokeStatic",
      "   core.clj:  3206 clojure.core$eval/invokeStatic",
      "   core.clj:  3202 clojure.core$eval/invoke",
      "   main.clj:   243 clojure.main$repl$read_eval_print__8572$fn__8575/invoke",
      "   main.clj:   261 clojure.main$repl$fn__8581/invoke",
      "   main.clj:   177 clojure.main$repl/doInvoke",
      "RestFn.java:  1523 clojure.lang.RestFn/invoke",
      "   AFn.java:    22 clojure.lang.AFn/run",
      "   AFn.java:    22 clojure.lang.AFn/run",
      "Thread.java:   748 java.lang.Thread/run"
     ]
    }
   ],
   "source": [
    "(def mask-on-yellow\n",
    "  (-> \n",
    "    img \n",
    "    clone \n",
    "    (cvt-color! COLOR_BGR2HSV) \n",
    "    (in-range! (new-scalar 20 100 100) (new-scalar 30 255 255))))\n",
    "\n",
    "(u/>>> mask-on-yellow)"
   ]
  },
  {
   "cell_type": "code",
   "execution_count": 4,
   "metadata": {},
   "outputs": [
    {
     "name": "stdout",
     "output_type": "stream",
     "text": [
      "[0 255 255]\n",
      "[0 255 255]\n",
      "[0 255 255]\n"
     ]
    },
    {
     "data": {
      "text/plain": [
       "nil"
      ]
     },
     "execution_count": 4,
     "metadata": {},
     "output_type": "execute_result"
    }
   ],
   "source": [
    "(-> (u/matrix-to-mat [[100 255 200]\n",
    "                      [100 255 200]\n",
    "                      [100 255 200]])\n",
    "\t(threshold! 150 255 THRESH_BINARY)\n",
    "    (dump))"
   ]
  },
  {
   "cell_type": "code",
   "execution_count": null,
   "metadata": {},
   "outputs": [],
   "source": []
  }
 ],
 "metadata": {
  "kernelspec": {
   "display_name": "Lein-Clojure",
   "language": "clojure",
   "name": "lein-clojure"
  },
  "language_info": {
   "file_extension": ".clj",
   "mimetype": "text/x-clojure",
   "name": "clojure",
   "version": "1.9.0"
  }
 },
 "nbformat": 4,
 "nbformat_minor": 2
}
