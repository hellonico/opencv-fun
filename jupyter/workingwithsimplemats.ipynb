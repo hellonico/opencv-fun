{
 "cells": [
  {
   "cell_type": "markdown",
   "metadata": {},
   "source": [
    "# Working with simple mats \n",
    "\n",
    "This is where it starts, we start opencv pure mat object with matrix of pixel values."
   ]
  },
  {
   "cell_type": "code",
   "execution_count": 1,
   "metadata": {},
   "outputs": [
    {
     "name": "stderr",
     "output_type": "stream",
     "text": [
      "WARNING: reduce already refers to: #'clojure.core/reduce in namespace: calm-galaxy, being replaced by: #'opencv4.core/reduce\n",
      "WARNING: sort already refers to: #'clojure.core/sort in namespace: calm-galaxy, being replaced by: #'opencv4.core/sort\n",
      "WARNING: min already refers to: #'clojure.core/min in namespace: calm-galaxy, being replaced by: #'opencv4.core/min\n",
      "WARNING: merge already refers to: #'clojure.core/merge in namespace: calm-galaxy, being replaced by: #'opencv4.core/merge\n",
      "WARNING: max already refers to: #'clojure.core/max in namespace: calm-galaxy, being replaced by: #'opencv4.core/max\n",
      "WARNING: compare already refers to: #'clojure.core/compare in namespace: calm-galaxy, being replaced by: #'opencv4.core/compare\n",
      "WARNING: repeat already refers to: #'clojure.core/repeat in namespace: calm-galaxy, being replaced by: #'opencv4.core/repeat\n"
     ]
    },
    {
     "data": {
      "text/plain": [
       "nil"
      ]
     },
     "execution_count": 1,
     "metadata": {},
     "output_type": "execute_result"
    }
   ],
   "source": [
    "(ns calm-galaxy\n",
    "  (:require\n",
    "    [opencv4.core :refer :all]\n",
    "    [opencv4.colors.rgb :as rgb]\n",
    "    [opencv4.utils :as u]))"
   ]
  },
  {
   "cell_type": "markdown",
   "metadata": {},
   "source": [
    "You can think of image containers in OpenCV as matrices. You usually define them with a number of rows, a number of columns and a type. \n",
    "The type defines what kind of content each pixel can receive. "
   ]
  },
  {
   "cell_type": "code",
   "execution_count": 2,
   "metadata": {},
   "outputs": [
    {
     "data": {
      "image/png": "[encoded data removed]"
     },
     "execution_count": 2,
     "metadata": {},
     "output_type": "execute_result"
    }
   ],
   "source": [
    "(def a (new-mat 100 100 CV_8UC3 (new-scalar 150 150 150)))\n",
    "(u/>>> a)"
   ]
  },
  {
   "cell_type": "code",
   "execution_count": 3,
   "metadata": {},
   "outputs": [
    {
     "data": {
      "image/png": "[encoded data removed]"
     },
     "execution_count": 3,
     "metadata": {},
     "output_type": "execute_result"
    }
   ],
   "source": [
    "(-> (new-mat 100 100 CV_8UC3)\n",
    "    (set-to (new-scalar 250 150 150))\n",
    "\t(u/>>>))"
   ]
  },
  {
   "cell_type": "code",
   "execution_count": 4,
   "metadata": {},
   "outputs": [
    {
     "data": {
      "image/png": "[encoded data removed]"
     },
     "execution_count": 4,
     "metadata": {},
     "output_type": "execute_result"
    }
   ],
   "source": [
    "(-> \n",
    "  (new-mat 100 100 CV_8UC3 (new-scalar 100 200 100))\n",
    "  (u/>>>))"
   ]
  },
  {
   "cell_type": "code",
   "execution_count": 5,
   "metadata": {},
   "outputs": [
    {
     "data": {
      "image/png": "[encoded data removed]"
     },
     "execution_count": 5,
     "metadata": {},
     "output_type": "execute_result"
    }
   ],
   "source": [
    "(-> \n",
    "  (new-mat 100 100 CV_8UC3 (new-scalar 100 200 100))\n",
    "  (bitwise-not!)\n",
    "  (u/>>>))"
   ]
  },
  {
   "cell_type": "code",
   "execution_count": 6,
   "metadata": {},
   "outputs": [
    {
     "data": {
      "image/png": "[encoded data removed]"
     },
     "execution_count": 6,
     "metadata": {},
     "output_type": "execute_result"
    }
   ],
   "source": [
    "(u/>>>\n",
    "  (new-mat 100 100 CV_8UC3 rgb/red-2))"
   ]
  },
  {
   "cell_type": "code",
   "execution_count": 11,
   "metadata": {},
   "outputs": [
    {
     "data": {
      "image/png": "[encoded data removed]"
     },
     "execution_count": 11,
     "metadata": {},
     "output_type": "execute_result"
    }
   ],
   "source": [
    "(u/>>>\n",
    "  (new-mat 100 100 CV_8UC3 rgb/yellow-2))"
   ]
  },
  {
   "cell_type": "code",
   "execution_count": 8,
   "metadata": {},
   "outputs": [
    {
     "name": "stdout",
     "output_type": "stream",
     "text": [
      "#object[org.opencv.core.Scalar 0x7211b650 [0.0, 238.0, 238.0, 0.0]]\n"
     ]
    },
    {
     "data": {
      "text/plain": [
       "\"[  0, 238, 238,   0, 238, 238,   0, 238, 238;\\n   0, 238, 238,   0, 238, 238,   0, 238, 238;\\n   0, 238, 238,   0, 238, 238,   0, 238, 238]\""
      ]
     },
     "execution_count": 8,
     "metadata": {},
     "output_type": "execute_result"
    }
   ],
   "source": [
    "(println rgb/yellow-2)\n",
    "(.dump (new-mat 3 3 CV_8UC3 rgb/yellow-2))"
   ]
  },
  {
   "cell_type": "code",
   "execution_count": 12,
   "metadata": {},
   "outputs": [
    {
     "data": {
      "image/png": "[encoded data removed]"
     },
     "execution_count": 12,
     "metadata": {},
     "output_type": "execute_result"
    }
   ],
   "source": [
    "(def a (new-mat 3 3 CV_8UC3))\n",
    "\n",
    "(.put a 0 1 (byte-array [0 238 238]))\n",
    "(.put a 0 2 (byte-array [0 238 238]))\n",
    "\n",
    "(.put a 1 0 (byte-array [0 238 238]))\n",
    "(.put a 1 1 (byte-array [0 238 238]))\n",
    "(.put a 1 2 (byte-array [0 238 238]))\n",
    "\n",
    "(.put a 2 0 (byte-array [0 238 238]))\n",
    "(.put a 2 1 (byte-array [0 238 238]))\n",
    "(.put a 2 2 (byte-array [0 238 238]))\n",
    "(u/>>> a)"
   ]
  },
  {
   "cell_type": "code",
   "execution_count": 13,
   "metadata": {},
   "outputs": [
    {
     "data": {
      "image/png": "[encoded data removed]"
     },
     "execution_count": 13,
     "metadata": {},
     "output_type": "execute_result"
    }
   ],
   "source": [
    "\n",
    "(def row 100)\n",
    "(def col 100)\n",
    "(def yellow (byte-array [0 238 238]) )\n",
    "\n",
    "(def a (new-mat row col CV_8UC3))\n",
    "\n",
    "(dotimes [i row]\n",
    "  (dotimes [j col]\n",
    "\t (.put a i j yellow)))\n",
    "\n",
    "(u/>>> a)"
   ]
  },
  {
   "cell_type": "code",
   "execution_count": 14,
   "metadata": {},
   "outputs": [
    {
     "data": {
      "image/png": "[encoded data removed]"
     },
     "execution_count": 14,
     "metadata": {},
     "output_type": "execute_result"
    }
   ],
   "source": [
    "(def row 100)\n",
    "(def col 150)\n",
    "(defn scalar->bytes [s]\n",
    "  (byte-array (take 3 (.val s ))))\n",
    "\n",
    "(def yellow (scalar->bytes (new-scalar 210 250 250)))\n",
    "\n",
    "(def a (new-mat row col CV_8UC3))\n",
    "\n",
    "(dotimes [i row]\n",
    "  (dotimes [j col]\n",
    "\t (.put a i j yellow)))\n",
    "\n",
    "(u/>>> a)"
   ]
  },
  {
   "cell_type": "code",
   "execution_count": 15,
   "metadata": {},
   "outputs": [
    {
     "data": {
      "text/plain": [
       "#'calm-galaxy/matrix-to-mat"
      ]
     },
     "execution_count": 15,
     "metadata": {},
     "output_type": "execute_result"
    }
   ],
   "source": [
    "(defn matrix-to-mat [matrix]\n",
    "  (let [ row (count matrix) col (count (first matrix)) b (new-mat row col CV_8UC3)]\n",
    "   (dotimes [i row]\n",
    "    (dotimes [j col ]\n",
    "\t (.put b i j (scalar->bytes (nth (nth matrix i) j )))))\n",
    "  b\n",
    "  ))"
   ]
  },
  {
   "cell_type": "code",
   "execution_count": 17,
   "metadata": {},
   "outputs": [
    {
     "data": {
      "image/png": "[encoded data removed]"
     },
     "execution_count": 17,
     "metadata": {},
     "output_type": "execute_result"
    }
   ],
   "source": [
    "(u/>>>\n",
    "  (matrix-to-mat [ \n",
    "   [rgb/red-2 rgb/red-2 rgb/blue rgb/blue] \n",
    "   [rgb/red-2 rgb/red-2 rgb/blue rgb/blue]  \n",
    "   [rgb/red-2 rgb/red-2 rgb/blue rgb/blue] ]))"
   ]
  },
  {
   "cell_type": "code",
   "execution_count": 19,
   "metadata": {},
   "outputs": [
    {
     "data": {
      "image/png": "[encoded data removed]"
     },
     "execution_count": 19,
     "metadata": {},
     "output_type": "execute_result"
    }
   ],
   "source": [
    "(u/>>>\n",
    "  (matrix-to-mat \n",
    "    (into [] \n",
    "      (clojure.core/repeat 50 \n",
    "\t\t(clojure.core/take 70 (repeatedly #(rand-nth [rgb/blue-3 rgb/beige])))))))"
   ]
  }
 ],
 "metadata": {
  "kernelspec": {
   "display_name": "Lein-Clojure",
   "language": "clojure",
   "name": "lein-clojure"
  },
  "language_info": {
   "file_extension": ".clj",
   "mimetype": "text/x-clojure",
   "name": "clojure",
   "version": "1.9.0"
  }
 },
 "nbformat": 4,
 "nbformat_minor": 2
}
