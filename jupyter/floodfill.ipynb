{
 "cells": [
  {
   "cell_type": "markdown",
   "metadata": {},
   "source": [
    "# Flood Fill"
   ]
  },
  {
   "cell_type": "code",
   "execution_count": 1,
   "metadata": {},
   "outputs": [
    {
     "name": "stderr",
     "output_type": "stream",
     "text": [
      "WARNING: reduce already refers to: #'clojure.core/reduce in namespace: wealthy-darkness, being replaced by: #'opencv4.core/reduce\n",
      "WARNING: sort already refers to: #'clojure.core/sort in namespace: wealthy-darkness, being replaced by: #'opencv4.core/sort\n",
      "WARNING: min already refers to: #'clojure.core/min in namespace: wealthy-darkness, being replaced by: #'opencv4.core/min\n",
      "WARNING: merge already refers to: #'clojure.core/merge in namespace: wealthy-darkness, being replaced by: #'opencv4.core/merge\n",
      "WARNING: max already refers to: #'clojure.core/max in namespace: wealthy-darkness, being replaced by: #'opencv4.core/max\n",
      "WARNING: compare already refers to: #'clojure.core/compare in namespace: wealthy-darkness, being replaced by: #'opencv4.core/compare\n",
      "WARNING: repeat already refers to: #'clojure.core/repeat in namespace: wealthy-darkness, being replaced by: #'opencv4.core/repeat\n"
     ]
    },
    {
     "data": {
      "text/plain": [
       "nil"
      ]
     },
     "execution_count": 1,
     "metadata": {},
     "output_type": "execute_result"
    }
   ],
   "source": [
    "(ns wealthy-darkness\n",
    " (:require\n",
    "     [opencv4.core :refer :all]\n",
    "     [opencv4.colors.rgb :as rgb]\n",
    "     [opencv4.utils :as u]))"
   ]
  },
  {
   "cell_type": "code",
   "execution_count": 3,
   "metadata": {},
   "outputs": [
    {
     "name": "stderr",
     "output_type": "stream",
     "text": [
      "ArityException Wrong number of args (8) passed to: core/flood-fill!  clojure.lang.AFn.throwArity (AFn.java:429)\n"
     ]
    },
    {
     "ename": "class clojure.lang.ArityException",
     "evalue": "",
     "output_type": "error",
     "traceback": [
      "   AFn.java:   429 clojure.lang.AFn/throwArity",
      "   AFn.java:    62 clojure.lang.AFn/invoke",
      "   core.clj:  3206 clojure.core$eval/invokeStatic",
      "   core.clj:  3202 clojure.core$eval/invoke",
      "   main.clj:   243 clojure.main$repl$read_eval_print__8572$fn__8575/invoke",
      "   main.clj:   261 clojure.main$repl$fn__8581/invoke",
      "   main.clj:   177 clojure.main$repl/doInvoke",
      "RestFn.java:  1523 clojure.lang.RestFn/invoke",
      "   AFn.java:    22 clojure.lang.AFn/run",
      "   AFn.java:    22 clojure.lang.AFn/run",
      "Thread.java:   748 java.lang.Thread/run"
     ]
    }
   ],
   "source": [
    "(def rose \n",
    "  (-> \"resources/matching/rose_flower.jpg\" \n",
    "    (imread IMREAD_REDUCED_COLOR_4)))\n",
    "(-> rose u/>>>)\n",
    "    \n",
    "(-> rose\n",
    "    clone\n",
    "    (flood-fill!\n",
    "     (new-mat) ; mask\n",
    "     (new-point 1 1) ; flood\n",
    "     rgb/white\n",
    "     (new-rect 120 120 220 220)\n",
    "     (new-scalar 110 10 10)\n",
    "     (new-scalar 120 15 15)\n",
    "     0)\n",
    "    (u/>>>))"
   ]
  },
  {
   "cell_type": "code",
   "execution_count": null,
   "metadata": {},
   "outputs": [],
   "source": []
  }
 ],
 "metadata": {
  "kernelspec": {
   "display_name": "Lein-Clojure",
   "language": "clojure",
   "name": "lein-clojure"
  },
  "language_info": {
   "file_extension": ".clj",
   "mimetype": "text/x-clojure",
   "name": "clojure",
   "version": "1.9.0"
  }
 },
 "nbformat": 4,
 "nbformat_minor": 2
}
