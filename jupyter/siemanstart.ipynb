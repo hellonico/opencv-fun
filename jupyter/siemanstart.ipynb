{
 "cells": [
  {
   "cell_type": "markdown",
   "metadata": {},
   "source": [
    "# siemensstar"
   ]
  },
  {
   "cell_type": "code",
   "execution_count": 3,
   "metadata": {},
   "outputs": [
    {
     "name": "stderr",
     "output_type": "stream",
     "text": [
      "WARNING: reduce already refers to: #'clojure.core/reduce in namespace: opencv4.siemensstar, being replaced by: #'opencv4.core/reduce\n",
      "WARNING: sort already refers to: #'clojure.core/sort in namespace: opencv4.siemensstar, being replaced by: #'opencv4.core/sort\n",
      "WARNING: min already refers to: #'clojure.core/min in namespace: opencv4.siemensstar, being replaced by: #'opencv4.core/min\n",
      "WARNING: merge already refers to: #'clojure.core/merge in namespace: opencv4.siemensstar, being replaced by: #'opencv4.core/merge\n",
      "WARNING: max already refers to: #'clojure.core/max in namespace: opencv4.siemensstar, being replaced by: #'opencv4.core/max\n",
      "WARNING: compare already refers to: #'clojure.core/compare in namespace: opencv4.siemensstar, being replaced by: #'opencv4.core/compare\n",
      "WARNING: repeat already refers to: #'clojure.core/repeat in namespace: opencv4.siemensstar, being replaced by: #'opencv4.core/repeat\n"
     ]
    },
    {
     "data": {
      "text/plain": [
       "nil"
      ]
     },
     "execution_count": 3,
     "metadata": {},
     "output_type": "execute_result"
    }
   ],
   "source": [
    "(ns opencv4.siemensstar\n",
    "(:require\n",
    "  [opencv4.core :refer :all]\n",
    "  [opencv4.colors.rgb :as color]\n",
    "  [opencv4.utils :as u]))"
   ]
  },
  {
   "cell_type": "code",
   "execution_count": 7,
   "metadata": {},
   "outputs": [
    {
     "data": {
      "text/plain": [
       "#'opencv4.siemensstar/siemens-star"
      ]
     },
     "execution_count": 7,
     "metadata": {},
     "output_type": "execute_result"
    }
   ],
   "source": [
    "\n",
    "; https://stackoverflow.com/questions/23326724/draw-a-siemens-star-in-opencv-and-c\n",
    "\n",
    "(defn siemens-star\n",
    "  ([ radius nb-pieces] (siemens-star radius nb-pieces [color/cyan-3]))\n",
    "  ([ radius nb-pieces colors]\n",
    "  (let [\n",
    "    star (new-mat (* 2 radius) (* 2 radius) CV_8UC3 color/white-smoke)\n",
    "    center (new-point radius radius)\n",
    "    angle (/ 360 (* 2 nb-pieces))\n",
    "    ]\n",
    "    (doseq [ i (range 0 360 (* 2 angle) ) ]\n",
    "     (ellipse star center (new-size radius radius) 0 i (+ angle i) (rand-nth colors) FILLED))\n",
    "    star)))"
   ]
  },
  {
   "cell_type": "code",
   "execution_count": null,
   "metadata": {},
   "outputs": [],
   "source": []
  }
 ],
 "metadata": {
  "kernelspec": {
   "display_name": "Lein-Clojure",
   "language": "clojure",
   "name": "lein-clojure"
  },
  "language_info": {
   "file_extension": ".clj",
   "mimetype": "text/x-clojure",
   "name": "clojure",
   "version": "1.9.0"
  }
 },
 "nbformat": 4,
 "nbformat_minor": 2
}
