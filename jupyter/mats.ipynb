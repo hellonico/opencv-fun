{
 "cells": [
  {
   "cell_type": "markdown",
   "metadata": {},
   "source": [
    "# Working with mats"
   ]
  },
  {
   "cell_type": "code",
   "execution_count": 2,
   "metadata": {},
   "outputs": [
    {
     "name": "stderr",
     "output_type": "stream",
     "text": [
      "WARNING: reduce already refers to: #'clojure.core/reduce in namespace: happy-tomato, being replaced by: #'opencv4.core/reduce\n",
      "WARNING: sort already refers to: #'clojure.core/sort in namespace: happy-tomato, being replaced by: #'opencv4.core/sort\n",
      "WARNING: min already refers to: #'clojure.core/min in namespace: happy-tomato, being replaced by: #'opencv4.core/min\n",
      "WARNING: merge already refers to: #'clojure.core/merge in namespace: happy-tomato, being replaced by: #'opencv4.core/merge\n",
      "WARNING: max already refers to: #'clojure.core/max in namespace: happy-tomato, being replaced by: #'opencv4.core/max\n",
      "WARNING: compare already refers to: #'clojure.core/compare in namespace: happy-tomato, being replaced by: #'opencv4.core/compare\n",
      "WARNING: repeat already refers to: #'clojure.core/repeat in namespace: happy-tomato, being replaced by: #'opencv4.core/repeat\n"
     ]
    },
    {
     "data": {
      "text/plain": [
       "nil"
      ]
     },
     "execution_count": 2,
     "metadata": {},
     "output_type": "execute_result"
    }
   ],
   "source": [
    "(ns happy-tomato\n",
    "  (:require\n",
    "    [opencv4.utils :as u]\n",
    "    [opencv4.core :refer :all]))"
   ]
  },
  {
   "cell_type": "markdown",
   "metadata": {},
   "source": [
    "You can create a mat using the constructor __new-mat__ from the core namespace. This works the same as its java equivalent, and takes width, height, and the number of channels as parameter to create it. \n",
    "\n",
    "The snippet below creates a 30x30 mat object, with 1 channel, just like you saw with Java."
   ]
  },
  {
   "cell_type": "code",
   "execution_count": 3,
   "metadata": {},
   "outputs": [
    {
     "data": {
      "image/png": "[encoded data removed]"
     },
     "execution_count": 3,
     "metadata": {},
     "output_type": "execute_result"
    }
   ],
   "source": [
    "(def mat (new-mat 30 30 CV_8UC1))\n",
    "(u/>>> mat)\n"
   ]
  },
  {
   "cell_type": "code",
   "execution_count": 4,
   "metadata": {},
   "outputs": [
    {
     "data": {
      "image/png": "[encoded data removed]"
     },
     "execution_count": 4,
     "metadata": {},
     "output_type": "execute_result"
    }
   ],
   "source": [
    "(set-to mat (new-scalar 105.0))\n",
    "(u/>>> mat)"
   ]
  },
  {
   "cell_type": "code",
   "execution_count": 5,
   "metadata": {},
   "outputs": [
    {
     "data": {
      "image/png": "[encoded data removed]"
     },
     "execution_count": 5,
     "metadata": {},
     "output_type": "execute_result"
    }
   ],
   "source": [
    "(def mat1 (new-mat 30 30 CV_8UC1))\n",
    "(set-to mat1 (new-scalar 155.0))\n",
    "(u/>>> mat1)"
   ]
  },
  {
   "cell_type": "code",
   "execution_count": 6,
   "metadata": {},
   "outputs": [
    {
     "name": "stdout",
     "output_type": "stream",
     "text": [
      "[128 128 128]\n",
      "[128 128 128]\n",
      "[128 128 128]\n"
     ]
    },
    {
     "data": {
      "text/plain": [
       "nil"
      ]
     },
     "execution_count": 6,
     "metadata": {},
     "output_type": "execute_result"
    }
   ],
   "source": [
    "(->>\n",
    "  (new-scalar 128.0)\n",
    "  (new-mat 3 3 CV_8UC1)\n",
    "  (dump))"
   ]
  },
  {
   "cell_type": "code",
   "execution_count": 7,
   "metadata": {},
   "outputs": [
    {
     "data": {
      "image/png": "[encoded data removed]"
     },
     "execution_count": 7,
     "metadata": {},
     "output_type": "execute_result"
    }
   ],
   "source": [
    "(u/>>> (hconcat! [mat mat1]))"
   ]
  },
  {
   "cell_type": "code",
   "execution_count": 8,
   "metadata": {},
   "outputs": [
    {
     "data": {
      "image/png": "[encoded data removed]"
     },
     "execution_count": 8,
     "metadata": {},
     "output_type": "execute_result"
    }
   ],
   "source": [
    "(u/>>> (vconcat! [mat mat1]))"
   ]
  },
  {
   "cell_type": "code",
   "execution_count": 9,
   "metadata": {},
   "outputs": [
    {
     "data": {
      "image/png": "[encoded data removed]"
     },
     "execution_count": 9,
     "metadata": {},
     "output_type": "execute_result"
    }
   ],
   "source": [
    "(def mat2 (new-mat 30 30 CV_8UC1 (new-scalar 0.0)))\n",
    "(def sub (submat mat2 (new-rect 10.0 10.0 10.0 10.0)))\n",
    "(set-to sub (new-scalar 255.0))\n",
    "(u/>>> mat2)"
   ]
  },
  {
   "cell_type": "code",
   "execution_count": 10,
   "metadata": {},
   "outputs": [
    {
     "data": {
      "image/png": "[encoded data removed]"
     },
     "execution_count": 10,
     "metadata": {},
     "output_type": "execute_result"
    }
   ],
   "source": [
    "(def red-mat (new-mat 30 30 CV_8UC3 (new-scalar 0 0 255)))\n",
    "(u/>>> red-mat)\n",
    "\n",
    "(def green-mat (new-mat 30 30 CV_8UC3 (new-scalar 0 255 0)))\n",
    "(u/>>> green-mat)\n",
    "\n",
    "(def blue-mat (new-mat 30 30 CV_8UC3 (new-scalar 255 0 0)))\n",
    "(u/>>> blue-mat)"
   ]
  },
  {
   "cell_type": "code",
   "execution_count": 11,
   "metadata": {},
   "outputs": [
    {
     "data": {
      "image/png": "[encoded data removed]"
     },
     "execution_count": 11,
     "metadata": {},
     "output_type": "execute_result"
    }
   ],
   "source": [
    "(def mat3 (new-mat 30 30 CV_8UC3 (new-scalar 255 255 0)))\n",
    "(def sub (submat mat3 (new-rect 10 10 10 10)))\n",
    "(set-to sub (new-scalar 0 255 255))\n",
    "(u/>>> mat3)\n",
    "\n",
    "(u/>>> (hconcat! (into [] (clojure.core/repeat 10 mat3))))"
   ]
  },
  {
   "cell_type": "code",
   "execution_count": 12,
   "metadata": {},
   "outputs": [
    {
     "data": {
      "image/png": "[encoded data removed]"
     },
     "execution_count": 12,
     "metadata": {},
     "output_type": "execute_result"
    }
   ],
   "source": [
    "(->> mat3\n",
    "    (clojure.core/repeat 10)\n",
    "    (hconcat!)\n",
    "    (u/>>>))"
   ]
  },
  {
   "cell_type": "code",
   "execution_count": 13,
   "metadata": {},
   "outputs": [
    {
     "data": {
      "image/png": "[encoded data removed]"
     },
     "execution_count": 13,
     "metadata": {},
     "output_type": "execute_result"
    }
   ],
   "source": [
    "(def a (new-mat 3 3 CV_8UC3))\n",
    "\n",
    "(.put a 0 0 (byte-array [0 238 238]))\n",
    "(.put a 0 1 (byte-array [0 238 238]))\n",
    "(.put a 0 2 (byte-array [0 238 238]))\n",
    "\n",
    "(.put a 1 0 (byte-array [0 238 238]))\n",
    "(.put a 1 1 (byte-array [0 238 238]))\n",
    "(.put a 1 2 (byte-array [0 238 238]))\n",
    "\n",
    "(.put a 2 0 (byte-array [0 238 238]))\n",
    "(.put a 2 1 (byte-array [0 238 238]))\n",
    "(.put a 2 2 (byte-array [0 238 238]))\n",
    "(u/>>> a)"
   ]
  },
  {
   "cell_type": "code",
   "execution_count": 14,
   "metadata": {},
   "outputs": [
    {
     "name": "stdout",
     "output_type": "stream",
     "text": [
      "[0 238 238 0 238 238 0 238 238]\n",
      "[0 238 238 0 238 238 0 238 238]\n",
      "[0 238 238 0 238 238 0 238 238]\n"
     ]
    },
    {
     "data": {
      "text/plain": [
       "nil"
      ]
     },
     "execution_count": 14,
     "metadata": {},
     "output_type": "execute_result"
    }
   ],
   "source": [
    "(dump a)"
   ]
  },
  {
   "cell_type": "code",
   "execution_count": 15,
   "metadata": {},
   "outputs": [
    {
     "name": "stdout",
     "output_type": "stream",
     "text": [
      "0\n",
      "0\n",
      "0\n",
      "0\n",
      "1\n",
      "2\n",
      "0\n",
      "2\n",
      "4\n"
     ]
    },
    {
     "data": {
      "text/plain": [
       "(0 1 2 3 4 5 6 7 8 9)"
      ]
     },
     "execution_count": 15,
     "metadata": {},
     "output_type": "execute_result"
    }
   ],
   "source": [
    "(doseq [x [0 1 2]\n",
    "        y [0 1 2]] \n",
    "  (prn (* x y)))\n",
    "(range 10)"
   ]
  },
  {
   "cell_type": "code",
   "execution_count": 16,
   "metadata": {},
   "outputs": [
    {
     "data": {
      "image/png": "[encoded data removed]"
     },
     "execution_count": 16,
     "metadata": {},
     "output_type": "execute_result"
    }
   ],
   "source": [
    "(def height 100)\n",
    "(def width 100)\n",
    "\n",
    "(def a (new-mat height width CV_8UC3))\n",
    "(doseq [x (range width)\n",
    "        y (range height)] \n",
    "  (.put a x y (byte-array [0 0 (rand 255)])))\n",
    "\n",
    "(u/>>> a)"
   ]
  },
  {
   "cell_type": "code",
   "execution_count": 17,
   "metadata": {},
   "outputs": [
    {
     "data": {
      "image/png": "[encoded data removed]"
     },
     "execution_count": 17,
     "metadata": {},
     "output_type": "execute_result"
    }
   ],
   "source": [
    "(u/>>>\n",
    "  (hconcat!\n",
    "     (into []\n",
    "           (map\n",
    "             #(-> (new-mat 30 30 CV_8UC1)\n",
    "                  (set-to (new-scalar (double (* % 10)))) ) (range 1 25)))))"
   ]
  },
  {
   "cell_type": "code",
   "execution_count": 18,
   "metadata": {},
   "outputs": [
    {
     "data": {
      "image/png": "[encoded data removed]"
     },
     "execution_count": 18,
     "metadata": {},
     "output_type": "execute_result"
    }
   ],
   "source": [
    "\n",
    "(u/>>>\n",
    "  (hconcat!\n",
    "     (into []\n",
    "           (map\n",
    "             #(-> (new-mat 30 30 CV_8UC3)\n",
    "                  (set-to (new-scalar 0.0 (double (* % 10)) 0.0 )) ) (range 1 25)))))"
   ]
  },
  {
   "cell_type": "code",
   "execution_count": 19,
   "metadata": {},
   "outputs": [
    {
     "data": {
      "text/plain": [
       "#'happy-tomato/gradient"
      ]
     },
     "execution_count": 19,
     "metadata": {},
     "output_type": "execute_result"
    }
   ],
   "source": [
    "\n",
    "(defn gradient [ gradient-fn ]\n",
    "  (hconcat!\n",
    "     (into []\n",
    "           (map\n",
    "             #(-> (new-mat 30 30 CV_8UC3)\n",
    "                  (set-to (gradient-fn %) )) (range 1 25)))))"
   ]
  },
  {
   "cell_type": "code",
   "execution_count": 20,
   "metadata": {},
   "outputs": [
    {
     "data": {
      "image/png": "[encoded data removed]"
     },
     "execution_count": 20,
     "metadata": {},
     "output_type": "execute_result"
    }
   ],
   "source": [
    "(u/>>> (gradient #(new-scalar (double (* % 10)) 0.0 0.0)))"
   ]
  },
  {
   "cell_type": "code",
   "execution_count": 21,
   "metadata": {},
   "outputs": [
    {
     "data": {
      "image/png": "[encoded data removed]"
     },
     "execution_count": 21,
     "metadata": {},
     "output_type": "execute_result"
    }
   ],
   "source": [
    "(u/>>> (gradient #(new-scalar 0.0 0.0 (double (* % 10)))))\n"
   ]
  },
  {
   "cell_type": "code",
   "execution_count": 22,
   "metadata": {},
   "outputs": [
    {
     "data": {
      "image/png": "[encoded data removed]"
     },
     "execution_count": 22,
     "metadata": {},
     "output_type": "execute_result"
    }
   ],
   "source": [
    "(u/>>> (gradient #(new-scalar (double (* % 10)) (double (* % 10)) 0.0 )))"
   ]
  },
  {
   "cell_type": "code",
   "execution_count": 23,
   "metadata": {},
   "outputs": [
    {
     "data": {
      "text/plain": [
       "#'happy-tomato/scalar-matrix-to-mat"
      ]
     },
     "execution_count": 23,
     "metadata": {},
     "output_type": "execute_result"
    }
   ],
   "source": [
    "(require '[opencv4.colors.rgb :as rgb])\n",
    "\n",
    "\n",
    "(defn scalar->bytes [s]\n",
    "  (byte-array (take 3 (.val s ))))\n",
    "\n",
    "(defn scalar-matrix-to-mat [matrix]\n",
    "  (let [ row (count matrix) col (count (first matrix)) b (new-mat row col CV_8UC3)]\n",
    "    (dotimes [i row]\n",
    "    　(dotimes [j col ]\n",
    "\t (.put b i j (scalar->bytes (nth (nth matrix i) j )))))\n",
    "   b))"
   ]
  },
  {
   "cell_type": "code",
   "execution_count": 24,
   "metadata": {},
   "outputs": [
    {
     "data": {
      "image/png": "[encoded data removed]"
     },
     "execution_count": 24,
     "metadata": {},
     "output_type": "execute_result"
    }
   ],
   "source": [
    "\n",
    "(u/>>>\n",
    "  (scalar-matrix-to-mat \n",
    "     [\n",
    "       \n",
    "       [rgb/red-2 rgb/blue rgb/red-3 rgb/blue]\n",
    "       [rgb/red-2 rgb/blue rgb/red-3 rgb/blue]\n",
    "       [rgb/red-2 rgb/blue rgb/red-3 rgb/blue]\n",
    "       [rgb/red-2 rgb/blue rgb/red-3 rgb/blue]\n",
    "       [rgb/red-2 rgb/blue rgb/red-3 rgb/blue]\n",
    "       [rgb/red-2 rgb/blue rgb/red-3 rgb/blue]\n",
    "       [rgb/red-2 rgb/blue rgb/red-3 rgb/blue]\n",
    "       [rgb/red-2 rgb/blue rgb/red-3 rgb/blue]\n",
    "       \n",
    "       ]))"
   ]
  },
  {
   "cell_type": "code",
   "execution_count": 25,
   "metadata": {},
   "outputs": [
    {
     "data": {
      "image/png": "[encoded data removed]"
     },
     "execution_count": 25,
     "metadata": {},
     "output_type": "execute_result"
    }
   ],
   "source": [
    "(u/>>>\n",
    "  (scalar-matrix-to-mat \n",
    "    (clojure.core/repeat 100 \n",
    "\t\t(take 100 \n",
    "          (clojure.core/cycle [rgb/yellow-3 rgb/yellow-2 rgb/red-2 rgb/red-3] )))))"
   ]
  }
 ],
 "metadata": {
  "kernelspec": {
   "display_name": "Lein-Clojure",
   "language": "clojure",
   "name": "lein-clojure"
  },
  "language_info": {
   "file_extension": ".clj",
   "mimetype": "text/x-clojure",
   "name": "clojure",
   "version": "1.9.0"
  }
 },
 "nbformat": 4,
 "nbformat_minor": 2
}
