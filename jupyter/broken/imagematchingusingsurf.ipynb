{
 "cells": [
  {
   "cell_type": "markdown",
   "metadata": {},
   "source": [
    "# Image Matching using SURF"
   ]
  },
  {
   "cell_type": "code",
   "execution_count": 4,
   "metadata": {},
   "outputs": [
    {
     "name": "stderr",
     "output_type": "stream",
     "text": [
      "WARNING: reduce already refers to: #'clojure.core/reduce in namespace: origami.surf-flann-matching-test, being replaced by: #'opencv4.core/reduce\n",
      "WARNING: sort already refers to: #'clojure.core/sort in namespace: origami.surf-flann-matching-test, being replaced by: #'opencv4.core/sort\n",
      "WARNING: min already refers to: #'clojure.core/min in namespace: origami.surf-flann-matching-test, being replaced by: #'opencv4.core/min\n",
      "WARNING: merge already refers to: #'clojure.core/merge in namespace: origami.surf-flann-matching-test, being replaced by: #'opencv4.core/merge\n",
      "WARNING: max already refers to: #'clojure.core/max in namespace: origami.surf-flann-matching-test, being replaced by: #'opencv4.core/max\n",
      "WARNING: compare already refers to: #'clojure.core/compare in namespace: origami.surf-flann-matching-test, being replaced by: #'opencv4.core/compare\n",
      "WARNING: repeat already refers to: #'clojure.core/repeat in namespace: origami.surf-flann-matching-test, being replaced by: #'opencv4.core/repeat\n"
     ]
    },
    {
     "data": {
      "text/plain": [
       "nil"
      ]
     },
     "execution_count": 4,
     "metadata": {},
     "output_type": "execute_result"
    }
   ],
   "source": [
    "(ns origami.surf-flann-matching-test \n",
    "  (:require [opencv4.core :refer :all] [opencv4.utils :as u])\n",
    "  (:import [java.util ArrayList]\n",
    "           [org.opencv.core MatOfKeyPoint MatOfDMatch MatOfByte DMatch Mat Scalar]\n",
    "           [org.opencv.features2d Features2d DescriptorMatcher]\n",
    "           [org.opencv.highgui HighGui]\n",
    "           [org.opencv.imgcodecs Imgcodecs]\n",
    "           [org.opencv.xfeatures2d SURF]))"
   ]
  },
  {
   "cell_type": "code",
   "execution_count": 5,
   "metadata": {},
   "outputs": [
    {
     "data": {
      "text/plain": [
       "#'origami.surf-flann-matching-test/image-matches"
      ]
     },
     "execution_count": 5,
     "metadata": {},
     "output_type": "execute_result"
    }
   ],
   "source": [
    "(defn filtered-matches [knn-matches]\n",
    "  (let [ratio-thresh 0.7\n",
    "        good-matches (MatOfDMatch.)]\n",
    "    (.fromList good-matches\n",
    "               (->> knn-matches\n",
    "                    (filter #(> (.rows %) 1))\n",
    "                    (map #(.toArray %))\n",
    "                    (filter #(< (.distance (first %))\n",
    "                                (* ratio-thresh (.distance (second %)))))\n",
    "                    (map #(first %))))\n",
    "    good-matches))\n",
    "\n",
    "(defn image-matches [object-image scene-image]\n",
    "  (let [hessian-threshold 400\n",
    "        n-octaves 4\n",
    "        n-octave-layers 3\n",
    "        extended false\n",
    "        upright false\n",
    "        detector (SURF/create hessian-threshold n-octaves n-octave-layers extended upright)\n",
    "        keypoints1 (MatOfKeyPoint.)\n",
    "        keypoints2 (MatOfKeyPoint.)\n",
    "        descriptors1 (Mat.)\n",
    "        descriptors2 (Mat.)\n",
    "        matcher (DescriptorMatcher/create DescriptorMatcher/FLANNBASED)\n",
    "        knn-matches (ArrayList.)\n",
    "        ratio-thresh 0.7\n",
    "        image-matches (Mat.)]\n",
    "    (.detectAndCompute detector object-image (Mat.) keypoints1 descriptors1)\n",
    "    (.detectAndCompute detector scene-image (Mat.) keypoints2 descriptors2)\n",
    "    (.knnMatch matcher descriptors1 descriptors2 knn-matches 2)\n",
    "    (Features2d/drawMatches object-image keypoints1\n",
    "                            scene-image keypoints2\n",
    "                            (filtered-matches knn-matches) image-matches\n",
    "                            (Scalar/all -1) (Scalar/all -1) (MatOfByte.)\n",
    "                            Features2d/DrawMatchesFlags_NOT_DRAW_SINGLE_POINTS)\n",
    "   image-matches))"
   ]
  },
  {
   "cell_type": "code",
   "execution_count": 6,
   "metadata": {},
   "outputs": [
    {
     "name": "stderr",
     "output_type": "stream",
     "text": [
      "UnsatisfiedLinkError org.opencv.xfeatures2d.SURF.create_0(DIIZZ)J  org.opencv.xfeatures2d.SURF.create_0 (SURF.java:-2)\n"
     ]
    },
    {
     "ename": "class java.lang.UnsatisfiedLinkError",
     "evalue": "",
     "output_type": "error",
     "traceback": [
      "  SURF.java:    -2 org.opencv.xfeatures2d.SURF/create_0",
      "  SURF.java:    92 org.opencv.xfeatures2d.SURF/create",
      "   core.clj:  3206 clojure.core$eval/invokeStatic",
      "   core.clj:  3202 clojure.core$eval/invoke",
      "   main.clj:   243 clojure.main$repl$read_eval_print__8572$fn__8575/invoke",
      "   main.clj:   261 clojure.main$repl$fn__8581/invoke",
      "   main.clj:   177 clojure.main$repl/doInvoke",
      "RestFn.java:  1523 clojure.lang.RestFn/invoke",
      "   AFn.java:    22 clojure.lang.AFn/run",
      "   AFn.java:    22 clojure.lang.AFn/run",
      "Thread.java:   748 java.lang.Thread/run"
     ]
    }
   ],
   "source": [
    "(let [object-image (imread \"resources/box.png\" Imgcodecs/IMREAD_GRAYSCALE)\n",
    "      scene-image (imread \"resources/box_in_scene.png\" Imgcodecs/IMREAD_GRAYSCALE)\n",
    "      image-matches (image-matches object-image scene-image)]\n",
    "  (u/>>> image-matches))"
   ]
  },
  {
   "cell_type": "code",
   "execution_count": null,
   "metadata": {},
   "outputs": [],
   "source": []
  }
 ],
 "metadata": {
  "kernelspec": {
   "display_name": "Lein-Clojure",
   "language": "clojure",
   "name": "lein-clojure"
  },
  "language_info": {
   "file_extension": ".clj",
   "mimetype": "text/x-clojure",
   "name": "clojure",
   "version": "1.9.0"
  }
 },
 "nbformat": 4,
 "nbformat_minor": 2
}
