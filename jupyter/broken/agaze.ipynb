{
 "cells": [
  {
   "cell_type": "markdown",
   "metadata": {},
   "source": [
    "# Akaze\n",
    "\n",
    "Find an image inside another image. "
   ]
  },
  {
   "cell_type": "code",
   "execution_count": 3,
   "metadata": {},
   "outputs": [
    {
     "name": "stderr",
     "output_type": "stream",
     "text": [
      "WARNING: reduce already refers to: #'clojure.core/reduce in namespace: origami.surf-flann-matching-test, being replaced by: #'opencv4.core/reduce\n",
      "WARNING: sort already refers to: #'clojure.core/sort in namespace: origami.surf-flann-matching-test, being replaced by: #'opencv4.core/sort\n",
      "WARNING: min already refers to: #'clojure.core/min in namespace: origami.surf-flann-matching-test, being replaced by: #'opencv4.core/min\n",
      "WARNING: merge already refers to: #'clojure.core/merge in namespace: origami.surf-flann-matching-test, being replaced by: #'opencv4.core/merge\n",
      "WARNING: max already refers to: #'clojure.core/max in namespace: origami.surf-flann-matching-test, being replaced by: #'opencv4.core/max\n",
      "WARNING: compare already refers to: #'clojure.core/compare in namespace: origami.surf-flann-matching-test, being replaced by: #'opencv4.core/compare\n",
      "WARNING: repeat already refers to: #'clojure.core/repeat in namespace: origami.surf-flann-matching-test, being replaced by: #'opencv4.core/repeat\n"
     ]
    },
    {
     "data": {
      "text/plain": [
       "nil"
      ]
     },
     "execution_count": 3,
     "metadata": {},
     "output_type": "execute_result"
    }
   ],
   "source": [
    "(ns origami.surf-flann-matching-test \n",
    "  (:require [opencv4.core :refer :all])\n",
    "  (:import [java.util ArrayList]\n",
    "           [org.opencv.core MatOfKeyPoint MatOfDMatch MatOfByte DMatch Mat Scalar]\n",
    "           [org.opencv.features2d Features2d DescriptorMatcher]\n",
    "           [org.opencv.highgui HighGui]\n",
    "           [org.opencv.imgcodecs Imgcodecs]\n",
    "           [org.opencv.xfeatures2d SURF]))"
   ]
  },
  {
   "cell_type": "code",
   "execution_count": 5,
   "metadata": {},
   "outputs": [
    {
     "name": "stderr",
     "output_type": "stream",
     "text": [
      "CompilerException java.lang.RuntimeException: No such namespace: u, compiling:(/tmp/form-init4945689644893418255.clj:1:64) \n",
      "CompilerException java.lang.IllegalArgumentException: No matching field found: clone for class clojure.lang.Var$Unbound, compiling:(form-init4945689644893418255.clj:3:11) \n",
      "CompilerException java.lang.RuntimeException: Unable to resolve symbol: new-matofkeypoint in this context, compiling:(/tmp/form-init4945689644893418255.clj:4:14) \n",
      "CompilerException java.lang.RuntimeException: Unable to resolve symbol: detector in this context, compiling:(/tmp/form-init4945689644893418255.clj:5:1) \n",
      "ClassCastException clojure.lang.Var$Unbound cannot be cast to org.opencv.core.Mat  origami.surf-flann-matching-test/eval36637 (form-init4945689644893418255.clj:8)\n",
      "CompilerException java.lang.RuntimeException: No such namespace: u, compiling:(/tmp/form-init4945689644893418255.clj:9:1) \n"
     ]
    },
    {
     "ename": "class clojure.lang.Compiler$CompilerException",
     "evalue": "",
     "output_type": "error",
     "traceback": [
      "  Util.java:   221 clojure.lang.Util/runtimeException",
      "   core.clj:  3206 clojure.core$eval/invokeStatic",
      "   core.clj:  3202 clojure.core$eval/invoke",
      "   main.clj:   243 clojure.main$repl$read_eval_print__8572$fn__8575/invoke",
      "   main.clj:   261 clojure.main$repl$fn__8581/invoke",
      "   main.clj:   177 clojure.main$repl/doInvoke",
      "RestFn.java:  1523 clojure.lang.RestFn/invoke",
      "   AFn.java:    22 clojure.lang.AFn/run",
      "   AFn.java:    22 clojure.lang.AFn/run",
      "Thread.java:   748 java.lang.Thread/run"
     ]
    }
   ],
   "source": [
    "(def original (-> \"resources/chapter04/bodysoap_bg.png\" imread (u/resize-by 0.3)))\n",
    "\n",
    "(def mat1 (clone original))\n",
    "(def points1 (new-matofkeypoint))\n",
    "(.detect detector mat1 points1)\n",
    "\n",
    "(def show-keypoints1 (new-mat))\n",
    "(Features2d/drawKeypoints mat1 points1 show-keypoints1 (new-scalar 255 0 0) 0)\n",
    "(u/>>> show-keypoints1)"
   ]
  },
  {
   "cell_type": "code",
   "execution_count": 6,
   "metadata": {},
   "outputs": [
    {
     "name": "stderr",
     "output_type": "stream",
     "text": [
      "WARNING: reduce already refers to: #'clojure.core/reduce in namespace: scenic-iceberg, being replaced by: #'opencv4.core/reduce\n",
      "WARNING: sort already refers to: #'clojure.core/sort in namespace: scenic-iceberg, being replaced by: #'opencv4.core/sort\n",
      "WARNING: min already refers to: #'clojure.core/min in namespace: scenic-iceberg, being replaced by: #'opencv4.core/min\n",
      "WARNING: merge already refers to: #'clojure.core/merge in namespace: scenic-iceberg, being replaced by: #'opencv4.core/merge\n",
      "WARNING: max already refers to: #'clojure.core/max in namespace: scenic-iceberg, being replaced by: #'opencv4.core/max\n",
      "WARNING: compare already refers to: #'clojure.core/compare in namespace: scenic-iceberg, being replaced by: #'opencv4.core/compare\n",
      "WARNING: repeat already refers to: #'clojure.core/repeat in namespace: scenic-iceberg, being replaced by: #'opencv4.core/repeat\n",
      "CompilerException java.io.FileNotFoundException: Could not locate gorilla_repl/image__init.class or gorilla_repl/image.clj on classpath. Please check that namespaces with dashes use underscores in the Clojure file name., compiling:(opencv4/gorilla.clj:2:1) \n"
     ]
    },
    {
     "ename": "class clojure.lang.Compiler$CompilerException",
     "evalue": "",
     "output_type": "error",
     "traceback": [
      "    RT.java:   463 clojure.lang.RT/load",
      "   core.clj:  6046 clojure.core$load$fn__6548/invoke",
      "   core.clj:  6045 clojure.core$load/invokeStatic",
      "   core.clj:  6029 clojure.core$load/doInvoke",
      "RestFn.java:   408 clojure.lang.RestFn/invoke",
      "   core.clj:  5848 clojure.core$load_one/invokeStatic",
      "   core.clj:  5843 clojure.core$load_one/invoke",
      "   core.clj:  5888 clojure.core$load_lib$fn__6493/invoke",
      "   core.clj:  5887 clojure.core$load_lib/invokeStatic",
      "   core.clj:  5868 clojure.core$load_lib/doInvoke",
      "RestFn.java:   142 clojure.lang.RestFn/applyTo",
      "   core.clj:   659 clojure.core$apply/invokeStatic",
      "   core.clj:  5925 clojure.core$load_libs/invokeStatic",
      "   core.clj:  5909 clojure.core$load_libs/doInvoke",
      "RestFn.java:   137 clojure.lang.RestFn/applyTo",
      "   core.clj:   661 clojure.core$apply/invokeStatic",
      "   core.clj:  6013 clojure.core$use/invokeStatic",
      "RestFn.java:   408 clojure.lang.RestFn/invoke",
      "gorilla.clj:     2 opencv4.gorilla$eval36818$loading__6434__auto____36819/invoke",
      "    RT.java:   379 clojure.lang.RT/loadResourceScript",
      "    RT.java:   460 clojure.lang.RT/load",
      "   core.clj:  6046 clojure.core$load$fn__6548/invoke",
      "   core.clj:  6045 clojure.core$load/invokeStatic",
      "   core.clj:  6029 clojure.core$load/doInvoke",
      "RestFn.java:   408 clojure.lang.RestFn/invoke",
      "   core.clj:  5848 clojure.core$load_one/invokeStatic",
      "   core.clj:  5843 clojure.core$load_one/invoke",
      "   core.clj:  5888 clojure.core$load_lib$fn__6493/invoke",
      "   core.clj:  5887 clojure.core$load_lib/invokeStatic",
      "   core.clj:  5868 clojure.core$load_lib/doInvoke",
      "RestFn.java:   142 clojure.lang.RestFn/applyTo",
      "   core.clj:   659 clojure.core$apply/invokeStatic",
      "   core.clj:  5925 clojure.core$load_libs/invokeStatic",
      "   core.clj:  5909 clojure.core$load_libs/doInvoke",
      "RestFn.java:   137 clojure.lang.RestFn/applyTo",
      "   core.clj:   659 clojure.core$apply/invokeStatic",
      "   core.clj:  5947 clojure.core$require/invokeStatic",
      "RestFn.java:   436 clojure.lang.RestFn/invoke",
      "   core.clj:  3206 clojure.core$eval/invokeStatic",
      "   core.clj:  3202 clojure.core$eval/invoke",
      "   main.clj:   243 clojure.main$repl$read_eval_print__8572$fn__8575/invoke",
      "   main.clj:   261 clojure.main$repl$fn__8581/invoke",
      "   main.clj:   177 clojure.main$repl/doInvoke",
      "RestFn.java:  1523 clojure.lang.RestFn/invoke",
      "   AFn.java:    22 clojure.lang.AFn/run",
      "   AFn.java:    22 clojure.lang.AFn/run",
      "Thread.java:   748 java.lang.Thread/run"
     ]
    }
   ],
   "source": [
    "(ns scenic-iceberg\n",
    "  (:require\n",
    "    [opencv4.core :refer :all]\n",
    "    [opencv4.utils :as u]\n",
    "[opencv4.gorilla :as g]))\n",
    "\n",
    "(def bg (-> \"resources/images/bgdiff/header.png\" imread (u/resize-by 0.5)))\n",
    "(u/>>> bg)"
   ]
  },
  {
   "cell_type": "code",
   "execution_count": null,
   "metadata": {},
   "outputs": [],
   "source": []
  }
 ],
 "metadata": {
  "kernelspec": {
   "display_name": "Lein-Clojure",
   "language": "clojure",
   "name": "lein-clojure"
  },
  "language_info": {
   "file_extension": ".clj",
   "mimetype": "text/x-clojure",
   "name": "clojure",
   "version": "1.9.0"
  }
 },
 "nbformat": 4,
 "nbformat_minor": 2
}
