{
 "cells": [
  {
   "cell_type": "markdown",
   "metadata": {},
   "source": [
    "# Clojure Basics"
   ]
  },
  {
   "cell_type": "code",
   "execution_count": 17,
   "metadata": {},
   "outputs": [
    {
     "name": "stderr",
     "output_type": "stream",
     "text": [
      "WARNING: reduce already refers to: #'clojure.core/reduce in namespace: opencv4.photomosaic, being replaced by: #'opencv4.core/reduce\n",
      "WARNING: sort already refers to: #'clojure.core/sort in namespace: opencv4.photomosaic, being replaced by: #'opencv4.core/sort\n",
      "WARNING: min already refers to: #'clojure.core/min in namespace: opencv4.photomosaic, being replaced by: #'opencv4.core/min\n",
      "WARNING: merge already refers to: #'clojure.core/merge in namespace: opencv4.photomosaic, being replaced by: #'opencv4.core/merge\n",
      "WARNING: max already refers to: #'clojure.core/max in namespace: opencv4.photomosaic, being replaced by: #'opencv4.core/max\n",
      "WARNING: compare already refers to: #'clojure.core/compare in namespace: opencv4.photomosaic, being replaced by: #'opencv4.core/compare\n",
      "WARNING: repeat already refers to: #'clojure.core/repeat in namespace: opencv4.photomosaic, being replaced by: #'opencv4.core/repeat\n"
     ]
    },
    {
     "data": {
      "text/plain": [
       "nil"
      ]
     },
     "execution_count": 17,
     "metadata": {},
     "output_type": "execute_result"
    }
   ],
   "source": [
    "(ns opencv4.photomosaic\n",
    "(:require\n",
    "  [opencv4.core :refer :all]\n",
    "  [opencv4.colors.rgb :as rgb]\n",
    "  [opencv4.utils :as u]))"
   ]
  },
  {
   "cell_type": "markdown",
   "metadata": {},
   "source": [
    "# Threading: -> vs ->>"
   ]
  },
  {
   "cell_type": "markdown",
   "metadata": {},
   "source": [
    "We will use a function _myprint_ that takes two parameters, and print them one after the other."
   ]
  },
  {
   "cell_type": "code",
   "execution_count": 23,
   "metadata": {},
   "outputs": [
    {
     "data": {
      "text/plain": [
       "#'opencv4.photomosaic/myprint"
      ]
     },
     "execution_count": 23,
     "metadata": {},
     "output_type": "execute_result"
    }
   ],
   "source": [
    "(defn myprint [var1 var2]\n",
    "    (println var1 \":\" var2))"
   ]
  },
  {
   "cell_type": "markdown",
   "metadata": {},
   "source": [
    "When using ->, you use the result of the current expression as the *first* parameter of the next line, and so on.\n",
    "Here:\n",
    "\n",
    "- \"resources/images/cat.jpg\" is used as the first parameter of imread\n",
    "- (imread \"resources/images/cat.jpg\") is used as the first parameter of myprint\n",
    "- (myprint (imread \"resources/images/cat.jpg\") \"hello\")\n",
    "\n",
    "And so in the output, hello comes last."
   ]
  },
  {
   "cell_type": "code",
   "execution_count": 24,
   "metadata": {},
   "outputs": [
    {
     "name": "stdout",
     "output_type": "stream",
     "text": [
      "#object[org.opencv.core.Mat 0x124b90c4 Mat [ 1200*1600*CV_8UC3, isCont=true, isSubmat=false, nativeObj=0x7f4ff0a1c3b0, dataAddr=0x7f4ff2507600 ]] : hello\n"
     ]
    },
    {
     "data": {
      "text/plain": [
       "nil"
      ]
     },
     "execution_count": 24,
     "metadata": {},
     "output_type": "execute_result"
    }
   ],
   "source": [
    "(-> \"resources/images/cat.jpg\" \n",
    "    imread \n",
    "    (myprint \"hello\"))"
   ]
  },
  {
   "cell_type": "markdown",
   "metadata": {},
   "source": [
    "When using ->>, you use the result of the current expression as the *last* parameter of the next line, and so on.\n",
    "\n",
    "Here:\n",
    "\n",
    "- \"resources/images/cat.jpg\" is used as the last parameter of imread, but imread has only one parameter\n",
    "- (imread \"resources/images/cat.jpg\") is used as the last parameter of myprint, which can be rewritten as:\n",
    "- (myprint \"hello\" (imread \"resources/images/cat.jpg\"))\n",
    "\n",
    "And so in this second output, hello comes first."
   ]
  },
  {
   "cell_type": "code",
   "execution_count": 25,
   "metadata": {},
   "outputs": [
    {
     "name": "stdout",
     "output_type": "stream",
     "text": [
      "hello : #object[org.opencv.core.Mat 0x518e3af6 Mat [ 1200*1600*CV_8UC3, isCont=true, isSubmat=false, nativeObj=0x7f4ff092b670, dataAddr=0x7f4ff2a85a80 ]]\n"
     ]
    },
    {
     "data": {
      "text/plain": [
       "nil"
      ]
     },
     "execution_count": 25,
     "metadata": {},
     "output_type": "execute_result"
    }
   ],
   "source": [
    "(->> \"resources/images/cat.jpg\" \n",
    "     imread \n",
    "     (myprint \"hello\"))"
   ]
  },
  {
   "cell_type": "code",
   "execution_count": null,
   "metadata": {},
   "outputs": [],
   "source": []
  }
 ],
 "metadata": {
  "kernelspec": {
   "display_name": "Lein-Clojure",
   "language": "clojure",
   "name": "lein-clojure"
  },
  "language_info": {
   "file_extension": ".clj",
   "mimetype": "text/x-clojure",
   "name": "clojure",
   "version": "1.9.0"
  }
 },
 "nbformat": 4,
 "nbformat_minor": 2
}
