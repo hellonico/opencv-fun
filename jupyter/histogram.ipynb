{
 "cells": [
  {
   "cell_type": "markdown",
   "metadata": {},
   "source": [
    "# Draw Histogram\n",
    "\n",
    "Draw histogram of picture"
   ]
  },
  {
   "cell_type": "code",
   "execution_count": 1,
   "metadata": {},
   "outputs": [
    {
     "name": "stderr",
     "output_type": "stream",
     "text": [
      "WARNING: reduce already refers to: #'clojure.core/reduce in namespace: wealthy-darkness, being replaced by: #'opencv4.core/reduce\n",
      "WARNING: sort already refers to: #'clojure.core/sort in namespace: wealthy-darkness, being replaced by: #'opencv4.core/sort\n",
      "WARNING: min already refers to: #'clojure.core/min in namespace: wealthy-darkness, being replaced by: #'opencv4.core/min\n",
      "WARNING: merge already refers to: #'clojure.core/merge in namespace: wealthy-darkness, being replaced by: #'opencv4.core/merge\n",
      "WARNING: max already refers to: #'clojure.core/max in namespace: wealthy-darkness, being replaced by: #'opencv4.core/max\n",
      "WARNING: compare already refers to: #'clojure.core/compare in namespace: wealthy-darkness, being replaced by: #'opencv4.core/compare\n",
      "WARNING: repeat already refers to: #'clojure.core/repeat in namespace: wealthy-darkness, being replaced by: #'opencv4.core/repeat\n"
     ]
    },
    {
     "data": {
      "text/plain": [
       "nil"
      ]
     },
     "execution_count": 1,
     "metadata": {},
     "output_type": "execute_result"
    }
   ],
   "source": [
    "(ns wealthy-darkness\n",
    " (:require\n",
    "     [opencv4.core :refer :all]\n",
    "     [opencv4.colors.rgb :as rgb]\n",
    "     [opencv4.utils :as u]))"
   ]
  },
  {
   "cell_type": "code",
   "execution_count": 2,
   "metadata": {},
   "outputs": [
    {
     "data": {
      "text/plain": [
       "nil"
      ]
     },
     "execution_count": 2,
     "metadata": {},
     "output_type": "execute_result"
    }
   ],
   "source": [
    "\n",
    "; http://answers.opencv.org/question/175526/calchist-on-java/\n",
    "\n",
    "(def image (imread \"resources/chapter03/emilie1.jpg\"))\n",
    "(def gray (-> image clone (cvt-color! COLOR_RGB2GRAY)))\n",
    "\n",
    "(def planes (new-arraylist))\n",
    "(split gray planes)"
   ]
  },
  {
   "cell_type": "code",
   "execution_count": 3,
   "metadata": {},
   "outputs": [
    {
     "data": {
      "text/plain": [
       "#object[org.opencv.core.Size 0x4e6d05e7 \"1x256\"]"
      ]
     },
     "execution_count": 3,
     "metadata": {},
     "output_type": "execute_result"
    }
   ],
   "source": [
    "(def hist-size  (new-matofint (int-array [256])))\n",
    "(def hist-range (new-matoffloat (float-array [0.0 255.0])))\n",
    "(def b-hist     (new-mat))\n",
    "\n",
    "(calc-hist planes (new-matofint (int-array [0])) (new-mat) b-hist hist-size hist-range false)\n",
    "\n",
    "(.size b-hist)"
   ]
  },
  {
   "cell_type": "code",
   "execution_count": 4,
   "metadata": {},
   "outputs": [
    {
     "data": {
      "text/plain": [
       "#object[org.opencv.core.Size 0x7b07ba7c \"32x32\"]"
      ]
     },
     "execution_count": 4,
     "metadata": {},
     "output_type": "execute_result"
    }
   ],
   "source": [
    "(def hist-size (new-matofint (int-array [32 32 32])))\n",
    "(def hist-range (new-matoffloat (float-array [0.0 255.0 0.0 255.0 0.0 255.0])))\n",
    "(def b-hist (new-mat))\n",
    "\n",
    "(def planes_2 (new-arraylist))\n",
    "(split image planes_2)\n",
    "\n",
    "(calc-hist planes_2 (new-matofint (int-array [0 1 2])) (new-mat) b-hist hist-size hist-range false)\n",
    "(.size b-hist) \n"
   ]
  },
  {
   "cell_type": "code",
   "execution_count": 5,
   "metadata": {},
   "outputs": [
    {
     "name": "stderr",
     "output_type": "stream",
     "text": [
      "IllegalArgumentException No matching method found: round  clojure.lang.Reflector.invokeMatchingMethod (Reflector.java:80)\n"
     ]
    },
    {
     "ename": "class java.lang.IllegalArgumentException",
     "evalue": "",
     "output_type": "error",
     "traceback": [
      "Reflector.java:    80 clojure.lang.Reflector/invokeMatchingMethod",
      "Reflector.java:   207 clojure.lang.Reflector/invokeStaticMethod",
      "      core.clj:  3206 clojure.core$eval/invokeStatic",
      "      core.clj:  3202 clojure.core$eval/invoke",
      "      main.clj:   243 clojure.main$repl$read_eval_print__8572$fn__8575/invoke",
      "      main.clj:   261 clojure.main$repl$fn__8581/invoke",
      "      main.clj:   177 clojure.main$repl/doInvoke",
      "   RestFn.java:  1523 clojure.lang.RestFn/invoke",
      "      AFn.java:    22 clojure.lang.AFn/run",
      "      AFn.java:    22 clojure.lang.AFn/run",
      "   Thread.java:   748 java.lang.Thread/run"
     ]
    }
   ],
   "source": [
    "(def hist-w 256)\n",
    "(def hist-h 300)\n",
    "\n",
    "(def bin-w (Math/round (double (/ 256 hist-w))))\n",
    "(def histImage (new-mat hist-h hist-w CV_8UC3))\n",
    "\n",
    "(normalize! b-hist 3 (.rows histImage) NORM_MINMAX)\n",
    "(set-to histImage (new-scalar 0 0 0))\n",
    "\n",
    "(doseq [ i (range 1 256)]\n",
    " (line histImage\n",
    "   (new-point (* bin-w (dec i))\n",
    "    (- hist-h (Math/round (nth (.get b-hist (dec i) 0) 0))))\n",
    "       \n",
    "   (new-point (* bin-w i)\n",
    "    (- hist-h (Math/round (nth (.get b-hist i 0) 0))))\n",
    "       \n",
    "   rgb/cyan-3\n",
    "   1\n",
    "   8\n",
    "   0))"
   ]
  },
  {
   "cell_type": "code",
   "execution_count": null,
   "metadata": {},
   "outputs": [],
   "source": []
  }
 ],
 "metadata": {
  "kernelspec": {
   "display_name": "Lein-Clojure",
   "language": "clojure",
   "name": "lein-clojure"
  },
  "language_info": {
   "file_extension": ".clj",
   "mimetype": "text/x-clojure",
   "name": "clojure",
   "version": "1.9.0"
  }
 },
 "nbformat": 4,
 "nbformat_minor": 2
}
