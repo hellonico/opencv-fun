{
 "cells": [
  {
   "cell_type": "markdown",
   "metadata": {},
   "source": [
    "# Cartoon Cats\n",
    "\n",
    "Because we all love cats and cartoon ... "
   ]
  },
  {
   "cell_type": "code",
   "execution_count": 1,
   "metadata": {},
   "outputs": [
    {
     "name": "stderr",
     "output_type": "stream",
     "text": [
      "WARNING: reduce already refers to: #'clojure.core/reduce in namespace: opencv4.cartoon2, being replaced by: #'opencv4.core/reduce\n",
      "WARNING: sort already refers to: #'clojure.core/sort in namespace: opencv4.cartoon2, being replaced by: #'opencv4.core/sort\n",
      "WARNING: min already refers to: #'clojure.core/min in namespace: opencv4.cartoon2, being replaced by: #'opencv4.core/min\n",
      "WARNING: merge already refers to: #'clojure.core/merge in namespace: opencv4.cartoon2, being replaced by: #'opencv4.core/merge\n",
      "WARNING: max already refers to: #'clojure.core/max in namespace: opencv4.cartoon2, being replaced by: #'opencv4.core/max\n",
      "WARNING: compare already refers to: #'clojure.core/compare in namespace: opencv4.cartoon2, being replaced by: #'opencv4.core/compare\n",
      "WARNING: repeat already refers to: #'clojure.core/repeat in namespace: opencv4.cartoon2, being replaced by: #'opencv4.core/repeat\n"
     ]
    },
    {
     "data": {
      "text/plain": [
       "nil"
      ]
     },
     "execution_count": 1,
     "metadata": {},
     "output_type": "execute_result"
    }
   ],
   "source": [
    "(ns opencv4.cartoon2\n",
    " (:require\n",
    "  [opencv4.core :refer :all]\n",
    "  [opencv4.utils :as u]))"
   ]
  },
  {
   "cell_type": "code",
   "execution_count": 2,
   "metadata": {},
   "outputs": [
    {
     "data": {
      "text/plain": [
       "#'opencv4.cartoon2/cartoon-me"
      ]
     },
     "execution_count": 2,
     "metadata": {},
     "output_type": "execute_result"
    }
   ],
   "source": [
    "(defn cartoon\n",
    "  [buffer]\n",
    "  (->\n",
    "    (cvt-color! buffer COLOR_RGB2GRAY))\n",
    "    (let [ c (clone buffer)]\n",
    "    ; (bilateral-filter buffer c 9 9 7)\n",
    "    (bilateral-filter buffer c 10 250 50)\n",
    "    (-> c\n",
    "     (median-blur! 7)\n",
    "     (adaptive-threshold! 255 ADAPTIVE_THRESH_MEAN_C THRESH_BINARY 9 3)\n",
    "     (cvt-color! COLOR_GRAY2RGB))))\n",
    "\n",
    "(defn cartoon-me[url]\n",
    " (-> url\n",
    "  u/mat-from-url\n",
    "  (u/resize-by 0.5)\n",
    "  cartoon\n",
    "  u/show))"
   ]
  },
  {
   "cell_type": "code",
   "execution_count": 3,
   "metadata": {},
   "outputs": [
    {
     "name": "stderr",
     "output_type": "stream",
     "text": [
      "NullPointerException   clojure.lang.Reflector.invokeNoArgInstanceMember (Reflector.java:301)\n"
     ]
    },
    {
     "ename": "class java.lang.NullPointerException",
     "evalue": "",
     "output_type": "error",
     "traceback": [
      "      Reflector.java:   301 clojure.lang.Reflector/invokeNoArgInstanceMember",
      "           utils.clj:   113 opencv4.utils$buffered_image_to_mat/invokeStatic",
      "           utils.clj:   111 opencv4.utils$buffered_image_to_mat/invoke",
      "           utils.clj:   184 opencv4.utils$mat_from_url/invokeStatic",
      "           utils.clj:   182 opencv4.utils$mat_from_url/invoke",
      "            core.clj:  2745 clojure.core$map$fn__5587/invoke",
      "        LazySeq.java:    40 clojure.lang.LazySeq/sval",
      "        LazySeq.java:    49 clojure.lang.LazySeq/seq",
      "             RT.java:   528 clojure.lang.RT/seq ",
      "            core.clj:   137 clojure.core$seq__5124/invokeStatic",
      "      core_print.clj:    53 clojure.core$print_sequential/invokeStatic",
      "      core_print.clj:   174 clojure.core$fn__7019/invokeStatic",
      "        MultiFn.java:   233 clojure.lang.MultiFn/invoke",
      "            core.clj:  3666 clojure.core$pr_on/invokeStatic",
      "            core.clj:  3669 clojure.core$pr/invokeStatic",
      "            AFn.java:   154 clojure.lang.AFn/applyToHelper",
      "         RestFn.java:   132 clojure.lang.RestFn/applyTo",
      "            core.clj:   657 clojure.core$apply/invokeStatic",
      "            core.clj:  4702 clojure.core$pr_str/invokeStatic",
      "         RestFn.java:   408 clojure.lang.RestFn/invoke",
      "mime_convertible.clj:    12 clojupyter.misc.mime_convertible$eval26303$fn__26304/invoke",
      "mime_convertible.clj:     5 clojupyter.protocol.mime_convertible$eval26232$fn__26233$G__26223__26238/invoke",
      "nrepl_middleware.clj:    20 clojupyter.kernel.nrepl_middleware$mime_values$fn$reify__26322/send",
      "            main.clj:   244 clojure.main$repl$read_eval_print__8572/invoke",
      "            main.clj:   261 clojure.main$repl$fn__8581/invoke",
      "            main.clj:   177 clojure.main$repl/doInvoke",
      "         RestFn.java:  1523 clojure.lang.RestFn/invoke",
      "            AFn.java:    22 clojure.lang.AFn/run",
      "            AFn.java:    22 clojure.lang.AFn/run",
      "         Thread.java:   748 java.lang.Thread/run"
     ]
    }
   ],
   "source": [
    "(map \n",
    "  cartoon-me \n",
    "  [\"http://www.petmd.com/sites/default/files/sleepy-cat-125522297.jpg\"\n",
    "   \"http://www.readersdigest.ca/wp-content/uploads/2011/01/4-ways-cheer-up-depressed-cat.jpg\"\n",
    "   \"https://hyatoky.com/wp-content/uploads/cute-cat-wallpapers-hd-1080x580.jpg\"])"
   ]
  },
  {
   "cell_type": "code",
   "execution_count": null,
   "metadata": {},
   "outputs": [],
   "source": []
  }
 ],
 "metadata": {
  "kernelspec": {
   "display_name": "Lein-Clojure",
   "language": "clojure",
   "name": "lein-clojure"
  },
  "language_info": {
   "file_extension": ".clj",
   "mimetype": "text/x-clojure",
   "name": "clojure",
   "version": "1.9.0"
  }
 },
 "nbformat": 4,
 "nbformat_minor": 2
}
