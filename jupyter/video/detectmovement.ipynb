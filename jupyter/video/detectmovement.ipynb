{
 "cells": [
  {
   "cell_type": "markdown",
   "metadata": {},
   "source": [
    "# Detect Movement"
   ]
  },
  {
   "cell_type": "code",
   "execution_count": 1,
   "metadata": {},
   "outputs": [
    {
     "name": "stderr",
     "output_type": "stream",
     "text": [
      "WARNING: reduce already refers to: #'clojure.core/reduce in namespace: talented-silence, being replaced by: #'opencv4.core/reduce\n",
      "WARNING: sort already refers to: #'clojure.core/sort in namespace: talented-silence, being replaced by: #'opencv4.core/sort\n",
      "WARNING: min already refers to: #'clojure.core/min in namespace: talented-silence, being replaced by: #'opencv4.core/min\n",
      "WARNING: merge already refers to: #'clojure.core/merge in namespace: talented-silence, being replaced by: #'opencv4.core/merge\n",
      "WARNING: max already refers to: #'clojure.core/max in namespace: talented-silence, being replaced by: #'opencv4.core/max\n",
      "WARNING: compare already refers to: #'clojure.core/compare in namespace: talented-silence, being replaced by: #'opencv4.core/compare\n",
      "WARNING: repeat already refers to: #'clojure.core/repeat in namespace: talented-silence, being replaced by: #'opencv4.core/repeat\n"
     ]
    },
    {
     "data": {
      "text/plain": [
       "nil"
      ]
     },
     "execution_count": 1,
     "metadata": {},
     "output_type": "execute_result"
    }
   ],
   "source": [
    "(ns talented-silence\n",
    "  (:require\n",
    "    [opencv4.core :refer :all]\n",
    "    [opencv4.video :as v]\n",
    "    [opencv4.colors.rgb :as rgb]\n",
    "    [opencv4.utils :as u]))"
   ]
  },
  {
   "cell_type": "code",
   "execution_count": 2,
   "metadata": {},
   "outputs": [
    {
     "data": {
      "text/plain": [
       "#'talented-silence/gray-clean!"
      ]
     },
     "execution_count": 2,
     "metadata": {},
     "output_type": "execute_result"
    }
   ],
   "source": [
    "(defn gray-clean![buffer]\n",
    "  (-> buffer \n",
    "      clone \n",
    "      (cvt-color! COLOR_BGR2GRAY) \n",
    "      (gaussian-blur! (new-size 3 3) 0) \n",
    "      (convert-to! CV_32F)))"
   ]
  },
  {
   "cell_type": "code",
   "execution_count": 3,
   "metadata": {},
   "outputs": [
    {
     "data": {
      "text/plain": [
       "#'talented-silence/test-gray!"
      ]
     },
     "execution_count": 3,
     "metadata": {},
     "output_type": "execute_result"
    }
   ],
   "source": [
    "(defn test-gray![buffer]\n",
    "  (-> buffer \n",
    "      gray-clean! \n",
    "      (convert-to! CV_8UC3)\n",
    "      (cvt-color! COLOR_GRAY2RGB)))"
   ]
  },
  {
   "cell_type": "code",
   "execution_count": 4,
   "metadata": {},
   "outputs": [
    {
     "name": "stderr",
     "output_type": "stream",
     "text": [
      "HeadlessException \n",
      "No X11 DISPLAY variable was set, but this program performed an operation which requires it.  java.awt.GraphicsEnvironment.checkHeadless (GraphicsEnvironment.java:204)\n"
     ]
    },
    {
     "ename": "class java.awt.HeadlessException",
     "evalue": "",
     "output_type": "error",
     "traceback": [
      "              GraphicsEnvironment.java:   204 java.awt.GraphicsEnvironment/checkHeadless",
      "                           Window.java:   536 java.awt.Window/<init>                ",
      "                            Frame.java:   420 java.awt.Frame/<init>                 ",
      "                           JFrame.java:   233 javax.swing.JFrame/<init>             ",
      "    NativeConstructorAccessorImpl.java:    -2 sun.reflect.NativeConstructorAccessorImpl/newInstance0",
      "    NativeConstructorAccessorImpl.java:    62 sun.reflect.NativeConstructorAccessorImpl/newInstance",
      "DelegatingConstructorAccessorImpl.java:    45 sun.reflect.DelegatingConstructorAccessorImpl/newInstance",
      "                      Constructor.java:   423 java.lang.reflect.Constructor/newInstance",
      "                        Reflector.java:   180 clojure.lang.Reflector/invokeConstructor",
      "                             utils.clj:   290 opencv4.utils$show/invokeStatic       ",
      "                             utils.clj:   284 opencv4.utils$show/invoke             ",
      "                             utils.clj:   352 opencv4.utils$simple_cam_window/invokeStatic",
      "                             utils.clj:   346 opencv4.utils$simple_cam_window/invoke",
      "                             utils.clj:   347 opencv4.utils$simple_cam_window/invokeStatic",
      "                             utils.clj:   346 opencv4.utils$simple_cam_window/invoke",
      "                              core.clj:  3206 clojure.core$eval/invokeStatic        ",
      "                              core.clj:  3202 clojure.core$eval/invoke              ",
      "                              main.clj:   243 clojure.main$repl$read_eval_print__8572$fn__8575/invoke",
      "                              main.clj:   261 clojure.main$repl$fn__8581/invoke     ",
      "                              main.clj:   177 clojure.main$repl/doInvoke            ",
      "                           RestFn.java:  1523 clojure.lang.RestFn/invoke            ",
      "                              AFn.java:    22 clojure.lang.AFn/run                  ",
      "                              AFn.java:    22 clojure.lang.AFn/run                  ",
      "                           Thread.java:   748 java.lang.Thread/run                  "
     ]
    }
   ],
   "source": [
    "(u/simple-cam-window test-gray!)"
   ]
  },
  {
   "cell_type": "markdown",
   "metadata": {},
   "source": [
    "### find diff"
   ]
  },
  {
   "cell_type": "code",
   "execution_count": null,
   "metadata": {},
   "outputs": [],
   "source": []
  }
 ],
 "metadata": {
  "kernelspec": {
   "display_name": "Lein-Clojure",
   "language": "clojure",
   "name": "lein-clojure"
  },
  "language_info": {
   "file_extension": ".clj",
   "mimetype": "text/x-clojure",
   "name": "clojure",
   "version": "1.9.0"
  }
 },
 "nbformat": 4,
 "nbformat_minor": 2
}
