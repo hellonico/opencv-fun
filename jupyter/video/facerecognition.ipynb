{
 "cells": [
  {
   "cell_type": "markdown",
   "metadata": {},
   "source": [
    "# face recognition"
   ]
  },
  {
   "cell_type": "code",
   "execution_count": 2,
   "metadata": {},
   "outputs": [
    {
     "name": "stderr",
     "output_type": "stream",
     "text": [
      "WARNING: reduce already refers to: #'clojure.core/reduce in namespace: talented-silence, being replaced by: #'opencv4.core/reduce\n",
      "WARNING: sort already refers to: #'clojure.core/sort in namespace: talented-silence, being replaced by: #'opencv4.core/sort\n",
      "WARNING: min already refers to: #'clojure.core/min in namespace: talented-silence, being replaced by: #'opencv4.core/min\n",
      "WARNING: merge already refers to: #'clojure.core/merge in namespace: talented-silence, being replaced by: #'opencv4.core/merge\n",
      "WARNING: max already refers to: #'clojure.core/max in namespace: talented-silence, being replaced by: #'opencv4.core/max\n",
      "WARNING: compare already refers to: #'clojure.core/compare in namespace: talented-silence, being replaced by: #'opencv4.core/compare\n",
      "WARNING: repeat already refers to: #'clojure.core/repeat in namespace: talented-silence, being replaced by: #'opencv4.core/repeat\n"
     ]
    },
    {
     "data": {
      "text/plain": [
       "nil"
      ]
     },
     "execution_count": 2,
     "metadata": {},
     "output_type": "execute_result"
    }
   ],
   "source": [
    "(ns talented-silence\n",
    "  (:require\n",
    "    [opencv4.core :refer :all]\n",
    "    [opencv4.video :as v]\n",
    "    [opencv4.colors.rgb :as rgb]\n",
    "    [opencv4.utils :as u]))"
   ]
  },
  {
   "cell_type": "markdown",
   "metadata": {},
   "source": [
    "### face recognition"
   ]
  },
  {
   "cell_type": "code",
   "execution_count": 3,
   "metadata": {},
   "outputs": [
    {
     "data": {
      "text/plain": [
       "#'talented-silence/detector"
      ]
     },
     "execution_count": 3,
     "metadata": {},
     "output_type": "execute_result"
    }
   ],
   "source": [
    "(def detector\n",
    "  (new-cascadeclassifier\n",
    "      (.getPath (clojure.java.io/resource \"lbpcascade_frontalface.xml\"))))"
   ]
  },
  {
   "cell_type": "markdown",
   "metadata": {},
   "source": [
    "#### draw rects around faces"
   ]
  },
  {
   "cell_type": "code",
   "execution_count": 4,
   "metadata": {},
   "outputs": [
    {
     "data": {
      "text/plain": [
       "#'talented-silence/find-faces!"
      ]
     },
     "execution_count": 4,
     "metadata": {},
     "output_type": "execute_result"
    }
   ],
   "source": [
    "(defn draw-rects! [buffer rects]\n",
    " (doseq [rect (.toArray rects)]\n",
    "  (rectangle\n",
    "   buffer\n",
    "   (new-point (.-x rect) (.-y rect))\n",
    "   (new-point (+ (.-width rect) (.-x rect)) (+ (.-height rect) (.-y rect)))\n",
    "   rgb/blue\n",
    "   5))\n",
    "  \n",
    "   buffer)\n",
    "\n",
    "(defn find-faces![buffer]\n",
    "  (let [rects (new-matofrect)]\n",
    "    (.detectMultiScale detector buffer rects)\n",
    "    (-> buffer\n",
    "        (draw-rects! rects)\n",
    "        (u/resize-by 0.7))))"
   ]
  },
  {
   "cell_type": "code",
   "execution_count": 5,
   "metadata": {},
   "outputs": [
    {
     "name": "stderr",
     "output_type": "stream",
     "text": [
      "HeadlessException \n",
      "No X11 DISPLAY variable was set, but this program performed an operation which requires it.  java.awt.GraphicsEnvironment.checkHeadless (GraphicsEnvironment.java:204)\n"
     ]
    },
    {
     "ename": "class java.awt.HeadlessException",
     "evalue": "",
     "output_type": "error",
     "traceback": [
      "              GraphicsEnvironment.java:   204 java.awt.GraphicsEnvironment/checkHeadless",
      "                           Window.java:   536 java.awt.Window/<init>                ",
      "                            Frame.java:   420 java.awt.Frame/<init>                 ",
      "                           JFrame.java:   233 javax.swing.JFrame/<init>             ",
      "    NativeConstructorAccessorImpl.java:    -2 sun.reflect.NativeConstructorAccessorImpl/newInstance0",
      "    NativeConstructorAccessorImpl.java:    62 sun.reflect.NativeConstructorAccessorImpl/newInstance",
      "DelegatingConstructorAccessorImpl.java:    45 sun.reflect.DelegatingConstructorAccessorImpl/newInstance",
      "                      Constructor.java:   423 java.lang.reflect.Constructor/newInstance",
      "                        Reflector.java:   180 clojure.lang.Reflector/invokeConstructor",
      "                             utils.clj:   290 opencv4.utils$show/invokeStatic       ",
      "                             utils.clj:   284 opencv4.utils$show/invoke             ",
      "                             utils.clj:   352 opencv4.utils$simple_cam_window/invokeStatic",
      "                             utils.clj:   346 opencv4.utils$simple_cam_window/invoke",
      "                             utils.clj:   347 opencv4.utils$simple_cam_window/invokeStatic",
      "                             utils.clj:   346 opencv4.utils$simple_cam_window/invoke",
      "                              core.clj:  3206 clojure.core$eval/invokeStatic        ",
      "                              core.clj:  3202 clojure.core$eval/invoke              ",
      "                              main.clj:   243 clojure.main$repl$read_eval_print__8572$fn__8575/invoke",
      "                              main.clj:   261 clojure.main$repl$fn__8581/invoke     ",
      "                              main.clj:   177 clojure.main$repl/doInvoke            ",
      "                           RestFn.java:  1523 clojure.lang.RestFn/invoke            ",
      "                              AFn.java:    22 clojure.lang.AFn/run                  ",
      "                              AFn.java:    22 clojure.lang.AFn/run                  ",
      "                           Thread.java:   748 java.lang.Thread/run                  "
     ]
    }
   ],
   "source": [
    "(u/simple-cam-window find-faces!)"
   ]
  },
  {
   "cell_type": "markdown",
   "metadata": {},
   "source": [
    "#### change color map of the face "
   ]
  },
  {
   "cell_type": "code",
   "execution_count": 6,
   "metadata": {},
   "outputs": [
    {
     "name": "stderr",
     "output_type": "stream",
     "text": [
      "HeadlessException \n",
      "No X11 DISPLAY variable was set, but this program performed an operation which requires it.  java.awt.GraphicsEnvironment.checkHeadless (GraphicsEnvironment.java:204)\n"
     ]
    },
    {
     "ename": "class java.awt.HeadlessException",
     "evalue": "",
     "output_type": "error",
     "traceback": [
      "              GraphicsEnvironment.java:   204 java.awt.GraphicsEnvironment/checkHeadless",
      "                           Window.java:   536 java.awt.Window/<init>                ",
      "                            Frame.java:   420 java.awt.Frame/<init>                 ",
      "                           JFrame.java:   233 javax.swing.JFrame/<init>             ",
      "    NativeConstructorAccessorImpl.java:    -2 sun.reflect.NativeConstructorAccessorImpl/newInstance0",
      "    NativeConstructorAccessorImpl.java:    62 sun.reflect.NativeConstructorAccessorImpl/newInstance",
      "DelegatingConstructorAccessorImpl.java:    45 sun.reflect.DelegatingConstructorAccessorImpl/newInstance",
      "                      Constructor.java:   423 java.lang.reflect.Constructor/newInstance",
      "                        Reflector.java:   180 clojure.lang.Reflector/invokeConstructor",
      "                             utils.clj:   290 opencv4.utils$show/invokeStatic       ",
      "                             utils.clj:   284 opencv4.utils$show/invoke             ",
      "                             utils.clj:   352 opencv4.utils$simple_cam_window/invokeStatic",
      "                             utils.clj:   346 opencv4.utils$simple_cam_window/invoke",
      "                             utils.clj:   347 opencv4.utils$simple_cam_window/invokeStatic",
      "                             utils.clj:   346 opencv4.utils$simple_cam_window/invoke",
      "                              core.clj:  3206 clojure.core$eval/invokeStatic        ",
      "                              core.clj:  3202 clojure.core$eval/invoke              ",
      "                              main.clj:   243 clojure.main$repl$read_eval_print__8572$fn__8575/invoke",
      "                              main.clj:   261 clojure.main$repl$fn__8581/invoke     ",
      "                              main.clj:   177 clojure.main$repl/doInvoke            ",
      "                           RestFn.java:  1523 clojure.lang.RestFn/invoke            ",
      "                              AFn.java:    22 clojure.lang.AFn/run                  ",
      "                              AFn.java:    22 clojure.lang.AFn/run                  ",
      "                           Thread.java:   748 java.lang.Thread/run                  "
     ]
    }
   ],
   "source": [
    "(defn draw-rects! [buffer rects]\n",
    "   (doseq [r (.toArray rects)]\n",
    "     (-> buffer\n",
    "      (submat r) \n",
    "      (apply-color-map! COLORMAP_COOL)\n",
    "      (copy-to (submat buffer r))))\n",
    "   (put-text! buffer (str (count (.toArray rects) ) )\n",
    "      (new-point 30 100) FONT_HERSHEY_PLAIN 5 rgb/magenta-2 2))\n",
    "\n",
    "(u/simple-cam-window\n",
    "  (fn [buffer]\n",
    "   (let [rects (new-matofrect)]\n",
    "    (.detectMultiScale detector buffer rects)\n",
    "    (-> buffer\n",
    "        (draw-rects! rects)\n",
    "        (u/resize-by 0.7)))))"
   ]
  },
  {
   "cell_type": "code",
   "execution_count": null,
   "metadata": {},
   "outputs": [],
   "source": []
  }
 ],
 "metadata": {
  "kernelspec": {
   "display_name": "Lein-Clojure",
   "language": "clojure",
   "name": "lein-clojure"
  },
  "language_info": {
   "file_extension": ".clj",
   "mimetype": "text/x-clojure",
   "name": "clojure",
   "version": "1.9.0"
  }
 },
 "nbformat": 4,
 "nbformat_minor": 2
}
