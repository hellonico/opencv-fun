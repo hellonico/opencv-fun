{
 "cells": [
  {
   "cell_type": "markdown",
   "metadata": {},
   "source": [
    "# Blur Detection\n",
    "Is my image blurred ? "
   ]
  },
  {
   "cell_type": "code",
   "execution_count": 3,
   "metadata": {},
   "outputs": [
    {
     "name": "stderr",
     "output_type": "stream",
     "text": [
      "WARNING: reduce already refers to: #'clojure.core/reduce in namespace: wealthy-darkness, being replaced by: #'opencv4.core/reduce\n",
      "WARNING: sort already refers to: #'clojure.core/sort in namespace: wealthy-darkness, being replaced by: #'opencv4.core/sort\n",
      "WARNING: min already refers to: #'clojure.core/min in namespace: wealthy-darkness, being replaced by: #'opencv4.core/min\n",
      "WARNING: merge already refers to: #'clojure.core/merge in namespace: wealthy-darkness, being replaced by: #'opencv4.core/merge\n",
      "WARNING: max already refers to: #'clojure.core/max in namespace: wealthy-darkness, being replaced by: #'opencv4.core/max\n",
      "WARNING: compare already refers to: #'clojure.core/compare in namespace: wealthy-darkness, being replaced by: #'opencv4.core/compare\n",
      "WARNING: repeat already refers to: #'clojure.core/repeat in namespace: wealthy-darkness, being replaced by: #'opencv4.core/repeat\n"
     ]
    },
    {
     "data": {
      "text/plain": [
       "nil"
      ]
     },
     "execution_count": 3,
     "metadata": {},
     "output_type": "execute_result"
    }
   ],
   "source": [
    "(ns wealthy-darkness\n",
    " (:require\n",
    "     [opencv4.core :refer :all]\n",
    "     [opencv4.colors.rgb :as color]\n",
    "     [opencv4.utils :as u]))"
   ]
  },
  {
   "cell_type": "markdown",
   "metadata": {},
   "source": [
    "## laplacian variation\n",
    "\n",
    "- https://stackoverflow.com/questions/36413394/opencv-variation-of-the-laplacian-java\n",
    "- http://www.pyimagesearch.com/2015/09/07/blur-detection-with-opencv/\n",
    "\n",
    "Detect blur in an image"
   ]
  },
  {
   "cell_type": "code",
   "execution_count": 13,
   "metadata": {},
   "outputs": [
    {
     "data": {
      "text/plain": [
       "#'wealthy-darkness/kernel"
      ]
     },
     "execution_count": 13,
     "metadata": {},
     "output_type": "execute_result"
    }
   ],
   "source": [
    "\n",
    "(def img\n",
    "  (-> \"resources/images/cat.jpg\" imread))\n",
    "\n",
    "(def kernel\n",
    "  (u/matrix-to-mat\n",
    "  [ [0 -1 0]\n",
    "    [-1 4 -1]\n",
    "    [0 -1 0]]))\n"
   ]
  },
  {
   "cell_type": "code",
   "execution_count": 14,
   "metadata": {},
   "outputs": [
    {
     "data": {
      "text/plain": [
       "60.04290529687066"
      ]
     },
     "execution_count": 14,
     "metadata": {},
     "output_type": "execute_result"
    }
   ],
   "source": [
    "\n",
    "(def result (-> img clone (cvt-color! COLOR_BGR2GRAY)))\n",
    "(filter-2-d! img -1 kernel)\n",
    "(def std (new-matofdouble))\n",
    "(def median (new-matofdouble))\n",
    "(mean-std-dev img median std)\n",
    "\n",
    "(Math/pow (first (.get std 0 0)) 2)"
   ]
  },
  {
   "cell_type": "code",
   "execution_count": 15,
   "metadata": {
    "scrolled": true
   },
   "outputs": [
    {
     "data": {
      "text/plain": [
       "#'wealthy-darkness/mark-blurred!"
      ]
     },
     "execution_count": 15,
     "metadata": {},
     "output_type": "execute_result"
    }
   ],
   "source": [
    ";\n",
    "; implementation using a function\n",
    ";\n",
    "\n",
    "(def laplacian-kernel (u/matrix-to-mat\n",
    "[ [0 -1 0]\n",
    "  [-1 4 -1]\n",
    "  [0 -1 0]]))\n",
    "\n",
    "(defn std-laplacian [img]\n",
    "  (let [ std (new-matofdouble)]\n",
    "    (filter-2-d! img -1 laplacian-kernel)\n",
    "    (mean-std-dev img (new-matofdouble) std)\n",
    "    (Math/pow (first (.get std 0 0)) 2)))\n",
    "\n",
    "(defn is-image-blurred?[img]\n",
    "  (< (std-laplacian (clone img)) 100))\n",
    "\n",
    "(defn mark-blurred! [ _img ]\n",
    "  (let [ _text   (if (is-image-blurred? _img) \"BLUR\" \"STILL\") ]\n",
    "    (put-text _img _text (new-point 30 30) FONT_ITALIC 1.0 color/blue-2 2)\t\n",
    "  _img))"
   ]
  },
  {
   "cell_type": "code",
   "execution_count": 22,
   "metadata": {},
   "outputs": [
    {
     "data": {
      "text/plain": [
       "(#object[java.awt.image.BufferedImage 0xeb65790 \"BufferedImage@eb65790: type = 5 ColorModel: #pixelBits = 24 numComponents = 3 color space = java.awt.color.ICC_ColorSpace@367ce285 transparency = 1 has alpha = false isAlphaPre = false ByteInterleavedRaster: width = 300 height = 225 #numDataElements 3 dataOff[0] = 2\"] #object[java.awt.image.BufferedImage 0x4b8e2243 \"BufferedImage@4b8e2243: type = 5 ColorModel: #pixelBits = 24 numComponents = 3 color space = java.awt.color.ICC_ColorSpace@367ce285 transparency = 1 has alpha = false isAlphaPre = false ByteInterleavedRaster: width = 387 height = 342 #numDataElements 3 dataOff[0] = 2\"] #object[java.awt.image.BufferedImage 0x62353a97 \"BufferedImage@62353a97: type = 5 ColorModel: #pixelBits = 24 numComponents = 3 color space = java.awt.color.ICC_ColorSpace@367ce285 transparency = 1 has alpha = false isAlphaPre = false ByteInterleavedRaster: width = 270 height = 343 #numDataElements 3 dataOff[0] = 2\"])"
      ]
     },
     "execution_count": 22,
     "metadata": {},
     "output_type": "execute_result"
    }
   ],
   "source": [
    "(map #(-> % imread (u/resize-by 0.5) mark-blurred! u/>>>)\n",
    "    [\"resources/images/tiger-blur.gif\" \n",
    "     \"resources/blurred/blurred_cat.jpg\"\n",
    "     \"resources/nico.jpg\"])"
   ]
  }
 ],
 "metadata": {
  "kernelspec": {
   "display_name": "Lein-Clojure",
   "language": "clojure",
   "name": "lein-clojure"
  },
  "language_info": {
   "file_extension": ".clj",
   "mimetype": "text/x-clojure",
   "name": "clojure",
   "version": "1.9.0"
  }
 },
 "nbformat": 4,
 "nbformat_minor": 2
}
