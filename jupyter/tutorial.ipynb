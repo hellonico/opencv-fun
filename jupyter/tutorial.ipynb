{
 "cells": [
  {
   "cell_type": "markdown",
   "metadata": {},
   "source": [
    "# Gorilla REPL\n",
    "\n",
    "Welcome to gorilla :-)\n",
    "\n",
    "Shift + enter evaluates code. Hit ctrl+g twice in quick succession or click the menu icon (upper-right corner) for more commands ...\n",
    "\n",
    "It's a good habit to run each worksheet in its own namespace: feel free to use the declaration we've provided below if you'd like."
   ]
  },
  {
   "cell_type": "code",
   "execution_count": null,
   "metadata": {},
   "outputs": [],
   "source": [
    "(ns opencv4.tutorial\n",
    " (:require\n",
    "   [opencv4.utils :as u]\n",
    "   [opencv4.core :refer :all]))"
   ]
  },
  {
   "cell_type": "code",
   "execution_count": null,
   "metadata": {},
   "outputs": [],
   "source": [
    "(def image (new-mat 320 240 CV_8UC3))\n",
    "(doseq [row (range 0 (.rows image))]\n",
    "  (doseq [col (range 0 (.cols image))]\n",
    "    (.put image row col (byte-array [(rand 250) 150 150]))))\n",
    "(u/>>> image)"
   ]
  },
  {
   "cell_type": "code",
   "execution_count": null,
   "metadata": {},
   "outputs": [],
   "source": [
    "; mosaic\n",
    "(->\n",
    "  \"resources/images/lena.png\"\n",
    "  (imread)\n",
    "  (u/resize-by 0.5)\n",
    "  (resize! (new-size ) 0.1 0.1 INTER_NEAREST)\n",
    "  (resize! (new-size) 10.0 10.0 INTER_NEAREST)\n",
    "  (u/>>>))"
   ]
  },
  {
   "cell_type": "markdown",
   "metadata": {},
   "source": [
    "## denoising"
   ]
  },
  {
   "cell_type": "code",
   "execution_count": null,
   "metadata": {},
   "outputs": [],
   "source": [
    "(->\n",
    "  \"resources/summer.png\"\n",
    "  (imread)\n",
    "  (u/resize-by 0.2)\n",
    "  (fast-nl-means-denoising!)\n",
    "  (u/>>>))"
   ]
  },
  {
   "cell_type": "markdown",
   "metadata": {},
   "source": [
    "# blurring"
   ]
  },
  {
   "cell_type": "code",
   "execution_count": null,
   "metadata": {},
   "outputs": [],
   "source": [
    "(->\n",
    "  \"resources/nico.jpg\"\n",
    "  (imread)\n",
    "  (u/resize-by 0.3)\n",
    "  (blur! (new-size 5 5))\n",
    "  (u/>>>))"
   ]
  },
  {
   "cell_type": "markdown",
   "metadata": {},
   "source": [
    "## grey scale"
   ]
  },
  {
   "cell_type": "code",
   "execution_count": null,
   "metadata": {},
   "outputs": [],
   "source": [
    "(->\n",
    "  \"resources/nico.jpg\"\n",
    "  (imread)\n",
    "  (u/resize-by 0.3)\n",
    "  (cvt-color! COLOR_RGB2GRAY)\n",
    "  (u/>>>))"
   ]
  },
  {
   "cell_type": "code",
   "execution_count": null,
   "metadata": {},
   "outputs": [],
   "source": [
    "; laplacian\n",
    "(->\n",
    "  (imread \"resources/nico.jpg\" 0)\n",
    "  (laplacian! 10)\n",
    "  (imwrite \"output/tutorial.png\"))\n",
    "\n",
    "; levels, very slow\n",
    "(def im (imread \"resources/nico.jpg\"))\n",
    "(def n 100)\n",
    "(def sz (.size im))\n",
    "\n",
    "(doseq [i (range 0 (.-height sz ))]\n",
    "  (doseq [j (range 0 (.-width sz ))]\n",
    "  (let [pixel (.get im i j)]\n",
    "    (aset pixel 0 (+ (aget pixel 0) (/ n 2)))\n",
    "    (aset pixel 1 (+ (aget pixel 1) (/ n 2)))\n",
    "    (aset pixel 2 (+ (aget pixel 2) (/ n 2)))\n",
    "    (.put im i j pixel))))\n",
    "\n",
    "(imwrite im \"output/tutorial.png\")\n",
    "\n",
    ";\n",
    "; SAMPLING\n",
    ";\n",
    "\n",
    "; downsample the image\n",
    "(def original (imread \"resources/nico.jpg\"))\n",
    "(.size original)\n",
    "(def im (clone original))\n",
    "(pyr-down! im)\n",
    "(imwrite im \"output/tutorial.png\")\n",
    "; upsample the image\n",
    "(pyr-up! im)\n",
    "(imwrite im \"output/tutorial.png\")\n",
    "\n",
    "; resize to the same size as the original\n",
    "(resize! im (new-size 540 686))\n",
    "\n",
    "; subtract original: this technique helps getting a nice outline of the picture\n",
    "(subtract im original im)\n",
    "(imwrite im \"output/tutorial.png\")\n",
    "\n",
    ";\n",
    "; THRESHOLD\n",
    ";\n",
    "(->\n",
    "  \"resources/nico.jpg\"\n",
    "  (imread)\n",
    "  (threshold! 100 240 THRESH_BINARY)\n",
    "  (imwrite \"output/tutorial.png\"))\n",
    "\n",
    "(->\n",
    "  \"resources/nico.jpg\"\n",
    "  (imread)\n",
    "  (threshold! 100 240 THRESH_BINARY_INV)\n",
    "  (imwrite \"output/tutorial.png\"))\n",
    "\n",
    "(->\n",
    "  \"resources/nico.jpg\"\n",
    "  (imread)\n",
    "  (threshold! 150 255 THRESH_BINARY)\n",
    "  (imwrite \"output/tutorial.png\"))\n",
    "\n",
    "\n",
    "; http://qiita.com/gutugutu3030/items/3907530ee49433420b37\n",
    "\n",
    ";\n",
    "; original gaussian blur on image\n",
    ";\n",
    "(->\n",
    "  \"resources/nico.jpg\"\n",
    "  (imread)\n",
    "  (cvt-color! COLOR_BGR2HSV)\n",
    "  (median-blur! 3)\n",
    "  (imwrite \"output/tutorial.png\"))\n",
    "\n",
    "(->\n",
    "  \"resources/nico.jpg\"\n",
    "  (imread)\n",
    "  (cvt-color! COLOR_BGR2RGBA)\n",
    "  (median-blur! 3)\n",
    "  (imwrite \"output/tutorial.png\"))\n",
    "\n",
    ";\n",
    "; nice threshold on above gaussian\n",
    ";\n",
    "(->\n",
    "  \"resources/nico.jpg\"\n",
    "  (imread)\n",
    "  (threshold! 100 240 THRESH_BINARY)\n",
    "  (imwrite \"output/tutorial.png\"))"
   ]
  },
  {
   "cell_type": "code",
   "execution_count": null,
   "metadata": {},
   "outputs": [],
   "source": [
    ";\n",
    "; Transformation\n",
    ";\n",
    "; https://www.tutorialspoint.com/opencv/opencv_distance_transformation.htm\n",
    "(->\n",
    "  \"resources/nico.jpg\"\n",
    "  (imread CV_8UC3)\n",
    "  (u/resize-by 0.9)\n",
    "  (threshold! 30 240 THRESH_BINARY)\n",
    "  (distance-transform! DIST_L1 5)\n",
    "  (u/>>>))"
   ]
  },
  {
   "cell_type": "code",
   "execution_count": null,
   "metadata": {},
   "outputs": [],
   "source": []
  }
 ],
 "metadata": {
  "kernelspec": {
   "display_name": "Lein-Clojure",
   "language": "clojure",
   "name": "lein-clojure"
  },
  "language_info": {
   "file_extension": ".clj",
   "mimetype": "text/x-clojure",
   "name": "clojure",
   "version": "1.9.0"
  }
 },
 "nbformat": 4,
 "nbformat_minor": 2
}
