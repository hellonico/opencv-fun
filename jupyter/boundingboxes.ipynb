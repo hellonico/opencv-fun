{
 "cells": [
  {
   "cell_type": "markdown",
   "metadata": {},
   "source": [
    "# bounding boxes"
   ]
  },
  {
   "cell_type": "code",
   "execution_count": 1,
   "metadata": {},
   "outputs": [
    {
     "name": "stderr",
     "output_type": "stream",
     "text": [
      "WARNING: reduce already refers to: #'clojure.core/reduce in namespace: opencv4.boundingboxes, being replaced by: #'opencv4.core/reduce\n",
      "WARNING: sort already refers to: #'clojure.core/sort in namespace: opencv4.boundingboxes, being replaced by: #'opencv4.core/sort\n",
      "WARNING: min already refers to: #'clojure.core/min in namespace: opencv4.boundingboxes, being replaced by: #'opencv4.core/min\n",
      "WARNING: merge already refers to: #'clojure.core/merge in namespace: opencv4.boundingboxes, being replaced by: #'opencv4.core/merge\n",
      "WARNING: max already refers to: #'clojure.core/max in namespace: opencv4.boundingboxes, being replaced by: #'opencv4.core/max\n",
      "WARNING: compare already refers to: #'clojure.core/compare in namespace: opencv4.boundingboxes, being replaced by: #'opencv4.core/compare\n",
      "WARNING: repeat already refers to: #'clojure.core/repeat in namespace: opencv4.boundingboxes, being replaced by: #'opencv4.core/repeat\n"
     ]
    },
    {
     "data": {
      "text/plain": [
       "nil"
      ]
     },
     "execution_count": 1,
     "metadata": {},
     "output_type": "execute_result"
    }
   ],
   "source": [
    "(ns opencv4.boundingboxes\n",
    "(:require\n",
    "  [opencv4.core :refer :all]\n",
    "  [opencv4.colors.rgb :as rgb]\n",
    "  [opencv4.utils :as u]))\n",
    "\n",
    "; http://docs.opencv.org/2.4/doc/tutorials/imgproc/shapedescriptors/bounding_rects_circles/bounding_rects_circles.html"
   ]
  },
  {
   "cell_type": "code",
   "execution_count": 2,
   "metadata": {},
   "outputs": [
    {
     "data": {
      "image/png": "[encoded data removed]"
     },
     "execution_count": 2,
     "metadata": {},
     "output_type": "execute_result"
    }
   ],
   "source": [
    "(def kikyu\n",
    "  (-> \"resources/chapter03/mongolfieres.jpg\"\n",
    "   imread))\n",
    "\n",
    "(u/>>> kikyu)\n",
    "\n",
    "(def wrong-mask\n",
    "  (-> kikyu \n",
    "      clone \n",
    "      (cvt-color! COLOR_BGR2GRAY)\n",
    " \t  (threshold! 250 255 THRESH_BINARY)\n",
    "      (median-blur! 7)))\n",
    "\n",
    "(u/>>> wrong-mask)"
   ]
  },
  {
   "cell_type": "code",
   "execution_count": 3,
   "metadata": {},
   "outputs": [
    {
     "data": {
      "image/png": "[encoded data removed]"
     },
     "execution_count": 3,
     "metadata": {},
     "output_type": "execute_result"
    }
   ],
   "source": [
    "(def mask\n",
    "  (-> kikyu \n",
    "      clone \n",
    "      (cvt-color! COLOR_RGB2HSV)\n",
    " \t  (in-range! (new-scalar 10 30 30) (new-scalar 30 255 255))\n",
    "      (median-blur! 7)))\n",
    "\n",
    "(u/>>> mask)"
   ]
  },
  {
   "cell_type": "code",
   "execution_count": 4,
   "metadata": {},
   "outputs": [
    {
     "data": {
      "text/plain": [
       "#'opencv4.boundingboxes/work"
      ]
     },
     "execution_count": 4,
     "metadata": {},
     "output_type": "execute_result"
    }
   ],
   "source": [
    "(def work (-> mask bitwise-not!))"
   ]
  }
 ],
 "metadata": {
  "kernelspec": {
   "display_name": "Lein-Clojure",
   "language": "clojure",
   "name": "lein-clojure"
  },
  "language_info": {
   "file_extension": ".clj",
   "mimetype": "text/x-clojure",
   "name": "clojure",
   "version": "1.9.0"
  }
 },
 "nbformat": 4,
 "nbformat_minor": 2
}
